{
 "cells": [
  {
   "cell_type": "markdown",
   "id": "93831896-683d-4946-8cae-7aff56608a65",
   "metadata": {},
   "source": [
    "## ДЗ №2. Матричные факторизации"
   ]
  },
  {
   "cell_type": "markdown",
   "id": "03b424ec-3791-4113-a672-25ef7cfa704d",
   "metadata": {},
   "source": [
    "#### В этой домашке вам предстоит реализовать некоторые базовые модели матричной факторизации\n",
    "\n",
    "#### Дата выдачи: 17.02.25\n",
    "\n",
    "#### Мягкий дедлайн: 02.03.25 23:59 MSK\n",
    "\n",
    "#### Жесткий дедлайн: 09.03.25 23:59 MSK"
   ]
  },
  {
   "cell_type": "markdown",
   "id": "d8f4b315-75b8-4225-953c-5510c584ff2b",
   "metadata": {},
   "source": [
    "В этом задании мы будем работать с классическим для рекоендательных систем датасетом [MovieLens 1M](https://grouplens.org/datasets/movielens/1m/). Датасет содержит рейтинги оценки для 4000 фильмов от 6000 пользователей. Более подробное описание можете найти на странице с датасетом и в README файле"
   ]
  },
  {
   "cell_type": "code",
   "execution_count": 1,
   "id": "f5a85f84-4854-4249-963d-143d08bb7e36",
   "metadata": {},
   "outputs": [
    {
     "name": "stdout",
     "output_type": "stream",
     "text": [
      "--2025-03-02 17:29:17--  https://files.grouplens.org/datasets/movielens/ml-1m.zip\n",
      "Resolving files.grouplens.org (files.grouplens.org)... 128.101.65.152\n",
      "Connecting to files.grouplens.org (files.grouplens.org)|128.101.65.152|:443... connected.\n",
      "HTTP request sent, awaiting response... 200 OK\n",
      "Length: 5917549 (5.6M) [application/zip]\n",
      "Saving to: ‘ml-1m.zip’\n",
      "\n",
      "ml-1m.zip           100%[===================>]   5.64M  2.87MB/s    in 2.0s    \n",
      "\n",
      "2025-03-02 17:29:19 (2.87 MB/s) - ‘ml-1m.zip’ saved [5917549/5917549]\n",
      "\n",
      "Archive:  ml-1m.zip\n",
      "   creating: ml-1m/\n",
      "  inflating: ml-1m/movies.dat        \n",
      "  inflating: ml-1m/ratings.dat       \n",
      "  inflating: ml-1m/README            \n",
      "  inflating: ml-1m/users.dat         \n",
      "SUMMARY\n",
      "================================================================================\n",
      "\n",
      "These files contain 1,000,209 anonymous ratings of approximately 3,900 movies \n",
      "made by 6,040 MovieLens users who joined MovieLens in 2000.\n",
      "\n",
      "USAGE LICENSE\n",
      "================================================================================\n",
      "\n",
      "Neither the University of Minnesota nor any of the researchers\n",
      "involved can guarantee the correctness of the data, its suitability\n",
      "for any particular purpose, or the validity of results based on the\n",
      "use of the data set.  The data set may be used for any research\n",
      "purposes under the following conditions:\n",
      "\n",
      "     * The user may not state or imply any endorsement from the\n",
      "       University of Minnesota or the GroupLens Research Group.\n",
      "\n",
      "     * The user must acknowledge the use of the data set in\n",
      "       publications resulting from the use of the data set\n",
      "       (see below for citation information).\n",
      "\n",
      "     * The user may not redistribute the data without separate\n",
      "       permission.\n",
      "\n",
      "     * The user may not use this information for any commercial or\n",
      "       revenue-bearing purposes without first obtaining permission\n",
      "       from a faculty member of the GroupLens Research Project at the\n",
      "       University of Minnesota.\n",
      "\n",
      "If you have any further questions or comments, please contact GroupLens\n",
      "<grouplens-info@cs.umn.edu>. \n",
      "\n",
      "CITATION\n",
      "================================================================================\n",
      "\n",
      "To acknowledge use of the dataset in publications, please cite the following\n",
      "paper:\n",
      "\n",
      "F. Maxwell Harper and Joseph A. Konstan. 2015. The MovieLens Datasets: History\n",
      "and Context. ACM Transactions on Interactive Intelligent Systems (TiiS) 5, 4,\n",
      "Article 19 (December 2015), 19 pages. DOI=http://dx.doi.org/10.1145/2827872\n",
      "\n",
      "\n",
      "ACKNOWLEDGEMENTS\n",
      "================================================================================\n",
      "\n",
      "Thanks to Shyong Lam and Jon Herlocker for cleaning up and generating the data\n",
      "set.\n",
      "\n",
      "FURTHER INFORMATION ABOUT THE GROUPLENS RESEARCH PROJECT\n",
      "================================================================================\n",
      "\n",
      "The GroupLens Research Project is a research group in the Department of \n",
      "Computer Science and Engineering at the University of Minnesota. Members of \n",
      "the GroupLens Research Project are involved in many research projects related \n",
      "to the fields of information filtering, collaborative filtering, and \n",
      "recommender systems. The project is lead by professors John Riedl and Joseph \n",
      "Konstan. The project began to explore automated collaborative filtering in \n",
      "1992, but is most well known for its world wide trial of an automated \n",
      "collaborative filtering system for Usenet news in 1996. Since then the project \n",
      "has expanded its scope to research overall information filtering solutions, \n",
      "integrating in content-based methods as well as improving current collaborative \n",
      "filtering technology.\n",
      "\n",
      "Further information on the GroupLens Research project, including research \n",
      "publications, can be found at the following web site:\n",
      "        \n",
      "        http://www.grouplens.org/\n",
      "\n",
      "GroupLens Research currently operates a movie recommender based on \n",
      "collaborative filtering:\n",
      "\n",
      "        http://www.movielens.org/\n",
      "\n",
      "RATINGS FILE DESCRIPTION\n",
      "================================================================================\n",
      "\n",
      "All ratings are contained in the file \"ratings.dat\" and are in the\n",
      "following format:\n",
      "\n",
      "UserID::MovieID::Rating::Timestamp\n",
      "\n",
      "- UserIDs range between 1 and 6040 \n",
      "- MovieIDs range between 1 and 3952\n",
      "- Ratings are made on a 5-star scale (whole-star ratings only)\n",
      "- Timestamp is represented in seconds since the epoch as returned by time(2)\n",
      "- Each user has at least 20 ratings\n",
      "\n",
      "USERS FILE DESCRIPTION\n",
      "================================================================================\n",
      "\n",
      "User information is in the file \"users.dat\" and is in the following\n",
      "format:\n",
      "\n",
      "UserID::Gender::Age::Occupation::Zip-code\n",
      "\n",
      "All demographic information is provided voluntarily by the users and is\n",
      "not checked for accuracy.  Only users who have provided some demographic\n",
      "information are included in this data set.\n",
      "\n",
      "- Gender is denoted by a \"M\" for male and \"F\" for female\n",
      "- Age is chosen from the following ranges:\n",
      "\n",
      "\t*  1:  \"Under 18\"\n",
      "\t* 18:  \"18-24\"\n",
      "\t* 25:  \"25-34\"\n",
      "\t* 35:  \"35-44\"\n",
      "\t* 45:  \"45-49\"\n",
      "\t* 50:  \"50-55\"\n",
      "\t* 56:  \"56+\"\n",
      "\n",
      "- Occupation is chosen from the following choices:\n",
      "\n",
      "\t*  0:  \"other\" or not specified\n",
      "\t*  1:  \"academic/educator\"\n",
      "\t*  2:  \"artist\"\n",
      "\t*  3:  \"clerical/admin\"\n",
      "\t*  4:  \"college/grad student\"\n",
      "\t*  5:  \"customer service\"\n",
      "\t*  6:  \"doctor/health care\"\n",
      "\t*  7:  \"executive/managerial\"\n",
      "\t*  8:  \"farmer\"\n",
      "\t*  9:  \"homemaker\"\n",
      "\t* 10:  \"K-12 student\"\n",
      "\t* 11:  \"lawyer\"\n",
      "\t* 12:  \"programmer\"\n",
      "\t* 13:  \"retired\"\n",
      "\t* 14:  \"sales/marketing\"\n",
      "\t* 15:  \"scientist\"\n",
      "\t* 16:  \"self-employed\"\n",
      "\t* 17:  \"technician/engineer\"\n",
      "\t* 18:  \"tradesman/craftsman\"\n",
      "\t* 19:  \"unemployed\"\n",
      "\t* 20:  \"writer\"\n",
      "\n",
      "MOVIES FILE DESCRIPTION\n",
      "================================================================================\n",
      "\n",
      "Movie information is in the file \"movies.dat\" and is in the following\n",
      "format:\n",
      "\n",
      "MovieID::Title::Genres\n",
      "\n",
      "- Titles are identical to titles provided by the IMDB (including\n",
      "year of release)\n",
      "- Genres are pipe-separated and are selected from the following genres:\n",
      "\n",
      "\t* Action\n",
      "\t* Adventure\n",
      "\t* Animation\n",
      "\t* Children's\n",
      "\t* Comedy\n",
      "\t* Crime\n",
      "\t* Documentary\n",
      "\t* Drama\n",
      "\t* Fantasy\n",
      "\t* Film-Noir\n",
      "\t* Horror\n",
      "\t* Musical\n",
      "\t* Mystery\n",
      "\t* Romance\n",
      "\t* Sci-Fi\n",
      "\t* Thriller\n",
      "\t* War\n",
      "\t* Western\n",
      "\n",
      "- Some MovieIDs do not correspond to a movie due to accidental duplicate\n",
      "entries and/or test entries\n",
      "- Movies are mostly entered by hand, so errors and inconsistencies may exist\n"
     ]
    }
   ],
   "source": [
    "!wget https://files.grouplens.org/datasets/movielens/ml-1m.zip\n",
    "!unzip ml-1m.zip\n",
    "!cat ml-1m/README"
   ]
  },
  {
   "cell_type": "code",
   "execution_count": 1,
   "id": "669137ca-f0f9-48d4-ae04-e42a4b0f8d14",
   "metadata": {},
   "outputs": [],
   "source": [
    "import pandas as pd\n",
    "import numpy as np\n",
    "from typing import Union"
   ]
  },
  {
   "cell_type": "code",
   "execution_count": 2,
   "id": "ed65b0ae-ce2d-437a-9739-e7981011089f",
   "metadata": {},
   "outputs": [
    {
     "data": {
      "text/html": [
       "<div>\n",
       "<style scoped>\n",
       "    .dataframe tbody tr th:only-of-type {\n",
       "        vertical-align: middle;\n",
       "    }\n",
       "\n",
       "    .dataframe tbody tr th {\n",
       "        vertical-align: top;\n",
       "    }\n",
       "\n",
       "    .dataframe thead th {\n",
       "        text-align: right;\n",
       "    }\n",
       "</style>\n",
       "<table border=\"1\" class=\"dataframe\">\n",
       "  <thead>\n",
       "    <tr style=\"text-align: right;\">\n",
       "      <th></th>\n",
       "      <th>user_id</th>\n",
       "      <th>item_id</th>\n",
       "      <th>rating</th>\n",
       "      <th>datetime</th>\n",
       "    </tr>\n",
       "  </thead>\n",
       "  <tbody>\n",
       "    <tr>\n",
       "      <th>0</th>\n",
       "      <td>1</td>\n",
       "      <td>1193</td>\n",
       "      <td>5</td>\n",
       "      <td>2000-12-31 22:12:40</td>\n",
       "    </tr>\n",
       "    <tr>\n",
       "      <th>1</th>\n",
       "      <td>1</td>\n",
       "      <td>661</td>\n",
       "      <td>3</td>\n",
       "      <td>2000-12-31 22:35:09</td>\n",
       "    </tr>\n",
       "    <tr>\n",
       "      <th>2</th>\n",
       "      <td>1</td>\n",
       "      <td>914</td>\n",
       "      <td>3</td>\n",
       "      <td>2000-12-31 22:32:48</td>\n",
       "    </tr>\n",
       "    <tr>\n",
       "      <th>3</th>\n",
       "      <td>1</td>\n",
       "      <td>3408</td>\n",
       "      <td>4</td>\n",
       "      <td>2000-12-31 22:04:35</td>\n",
       "    </tr>\n",
       "    <tr>\n",
       "      <th>4</th>\n",
       "      <td>1</td>\n",
       "      <td>2355</td>\n",
       "      <td>5</td>\n",
       "      <td>2001-01-06 23:38:11</td>\n",
       "    </tr>\n",
       "  </tbody>\n",
       "</table>\n",
       "</div>"
      ],
      "text/plain": [
       "   user_id  item_id  rating            datetime\n",
       "0        1     1193       5 2000-12-31 22:12:40\n",
       "1        1      661       3 2000-12-31 22:35:09\n",
       "2        1      914       3 2000-12-31 22:32:48\n",
       "3        1     3408       4 2000-12-31 22:04:35\n",
       "4        1     2355       5 2001-01-06 23:38:11"
      ]
     },
     "execution_count": 2,
     "metadata": {},
     "output_type": "execute_result"
    }
   ],
   "source": [
    "df = pd.read_csv(\"ml-1m/ratings.dat\", sep='::', names=['user_id', 'item_id', 'rating', 'timestamp'], engine='python')\n",
    "df['datetime'] = pd.to_datetime(df['timestamp'], unit='s')\n",
    "df.drop('timestamp', axis=1, inplace=True)\n",
    "df.head()"
   ]
  },
  {
   "cell_type": "code",
   "execution_count": 3,
   "id": "4988d476-542e-4a32-9c45-7a16bc2a5db5",
   "metadata": {},
   "outputs": [],
   "source": [
    "value_counts = df['item_id'].value_counts()\n",
    "filtered_values = value_counts[value_counts > 20].index\n",
    "df = df[df['item_id'].isin(filtered_values)].copy()"
   ]
  },
  {
   "cell_type": "code",
   "execution_count": 4,
   "id": "1e05bd3b-ab2f-4c02-9a97-a4153e9550bc",
   "metadata": {},
   "outputs": [
    {
     "data": {
      "text/plain": [
       "((787420, 4), (207432, 4))"
      ]
     },
     "execution_count": 4,
     "metadata": {},
     "output_type": "execute_result"
    }
   ],
   "source": [
    "train_end = '2000-12-01'\n",
    "df_train = df[df['datetime'] < train_end].copy()\n",
    "df_test = df[df['datetime'] >= train_end].copy()\n",
    "df_train.shape, df_test.shape"
   ]
  },
  {
   "cell_type": "code",
   "execution_count": 5,
   "id": "414b8ed7-20d6-4778-9d60-f9c8ccbfa7e3",
   "metadata": {},
   "outputs": [
    {
     "data": {
      "text/plain": [
       "(106471, 4)"
      ]
     },
     "execution_count": 5,
     "metadata": {},
     "output_type": "execute_result"
    }
   ],
   "source": [
    "train_users = df_train['user_id'].unique()\n",
    "train_items = df_train['item_id'].unique()\n",
    "\n",
    "df_test = df_test[df_test['user_id'].isin(train_users)]\n",
    "df_test = df_test[df_test['item_id'].isin(train_items)]\n",
    "df_test.shape"
   ]
  },
  {
   "cell_type": "code",
   "execution_count": 6,
   "id": "19f53d61-990c-4626-a470-7eefd06d2ec7",
   "metadata": {},
   "outputs": [],
   "source": [
    "from sklearn.preprocessing import LabelEncoder\n",
    "\n",
    "user_le = LabelEncoder()\n",
    "item_le = LabelEncoder()\n",
    "\n",
    "df_train['user_id'] = user_le.fit_transform(df_train['user_id'])\n",
    "df_train['item_id'] = item_le.fit_transform(df_train['item_id'])\n",
    "\n",
    "df_test['user_id'] = user_le.transform(df_test['user_id'])\n",
    "df_test['item_id'] = item_le.transform(df_test['item_id'])"
   ]
  },
  {
   "cell_type": "code",
   "execution_count": 7,
   "id": "f4ef3e2f-792d-4511-b4d0-74495d9cb30b",
   "metadata": {},
   "outputs": [
    {
     "data": {
      "text/plain": [
       "(3010, 3009)"
      ]
     },
     "execution_count": 7,
     "metadata": {},
     "output_type": "execute_result"
    }
   ],
   "source": [
    "df_train['user_id'].nunique(), df_train['user_id'].max()\n",
    "df_train['item_id'].nunique(), df_train['item_id'].max()"
   ]
  },
  {
   "cell_type": "markdown",
   "id": "3d356df8-9157-4752-b30d-dc80aba5e53c",
   "metadata": {},
   "source": [
    "##### Задание 1. Напишем функцию, которая превратит датафрейм в матрицу интеракций. В функции df_to_matrix реализуйте функцию, которая принимает датафрейм и возвращает np.array матрицу интеракций. В функции df_to_coo реализуйте функцию, которая принимает датафрейм и возвращает разреженную матрицу интеракций в coo_array формате"
   ]
  },
  {
   "cell_type": "code",
   "execution_count": 8,
   "id": "d38a7bb7-7f2d-4957-8dac-6397af9b1645",
   "metadata": {},
   "outputs": [],
   "source": [
    "def df_to_matrix(df: pd.DataFrame) -> np.ndarray:\n",
    "    users_cnt = df.user_id.max() + 1\n",
    "    items_cnt = df.item_id.max() + 1\n",
    "\n",
    "    res = np.empty(shape=(users_cnt, items_cnt))  # Инициализируем np.ndarray\n",
    "    res[df.user_id.values, df.item_id.values] = df.rating.values  # Заполняем его\n",
    "    \n",
    "    return res"
   ]
  },
  {
   "cell_type": "code",
   "execution_count": 9,
   "id": "55362cbb-5e2d-455b-afd1-8507f1dd51ba",
   "metadata": {},
   "outputs": [],
   "source": [
    "interactions = df_to_matrix(df_train)"
   ]
  },
  {
   "cell_type": "code",
   "execution_count": 10,
   "id": "794b646d-a560-42dd-a466-87cad2589271",
   "metadata": {},
   "outputs": [],
   "source": [
    "from scipy.sparse import coo_array\n",
    "\n",
    "def df_to_coo(df: pd.DataFrame) -> coo_array:\n",
    "    users_cnt = df.user_id.max() + 1\n",
    "    items_cnt = df.item_id.max() + 1\n",
    "    \n",
    "    return coo_array(\n",
    "        arg1=(df.rating.values, (df.user_id.values, df.item_id.values)),  # coo_array((data, coords), [shape])\n",
    "        shape=(users_cnt, items_cnt), \n",
    "        dtype=float\n",
    "    )"
   ]
  },
  {
   "cell_type": "code",
   "execution_count": 11,
   "id": "30f9c218-0419-41b2-a112-c2214fad1d99",
   "metadata": {},
   "outputs": [],
   "source": [
    "coo_interactions = df_to_coo(df_train)"
   ]
  },
  {
   "cell_type": "code",
   "execution_count": 12,
   "id": "96b57a7a-0551-4f75-8047-fb9904ac93df",
   "metadata": {},
   "outputs": [],
   "source": [
    "assert (interactions != 0).sum() == df_train.shape[0]\n",
    "assert interactions[0, 2994] == 3\n",
    "assert interactions[2369, 1203] == 5\n",
    "assert interactions[1557, 459] == 3\n",
    "assert np.allclose(coo_interactions.toarray(), interactions)"
   ]
  },
  {
   "cell_type": "markdown",
   "id": "93b3862a-e62a-4ebe-a70c-29102e9f99fd",
   "metadata": {},
   "source": [
    "##### Задание 2.1. Рассмотрим [SVD](https://en.wikipedia.org/wiki/Singular_value_decomposition). Возьмите готовую реализуцию алгоритма из numpy.linalg или из scipy.linalg и примените алгоритм к матрицам интеракций, полученным в первом задании. Для работы со sparse матрицей обычная реализация svd не подойдет и нужно будет воспользоваться scipy.sparse.linalg.svds. Вам нужно разложить матрицу интеракций на 3 матрицы U, S, V, а затем перемножить их и восстановить изначальную матрицу. При полном разложении исходная матрица должна восстанавливаться максимально хорошо"
   ]
  },
  {
   "cell_type": "code",
   "execution_count": 13,
   "id": "b35177b8-93e0-4695-9cf5-ccd8b9bbbe08",
   "metadata": {},
   "outputs": [],
   "source": [
    "from scipy.linalg import svd\n",
    "from scipy.sparse.linalg import svds\n",
    "from scipy.sparse._coo import coo_array as scipy_coo_array"
   ]
  },
  {
   "cell_type": "code",
   "execution_count": 14,
   "id": "eead134a-9aac-4027-b0b8-592de614c3d0",
   "metadata": {},
   "outputs": [],
   "source": [
    "def make_svd(\n",
    "    interractions: Union[np.ndarray, coo_array], \n",
    "    n_singular_values: int = -1\n",
    "):\n",
    "    if isinstance(interractions, np.ndarray):\n",
    "        U, S, V = svd(interactions, full_matrices=False)\n",
    "        if n_singular_values != -1:\n",
    "            U, S, V = U[:, :n_singular_values], S[:n_singular_values], V[:n_singular_values, :]\n",
    "\n",
    "    if isinstance(interractions, scipy_coo_array):\n",
    "        rank_param = min(n_users, n_items) - 1 if n_singular_values == -1 else n_singular_values\n",
    "        U, S, V = svds(\n",
    "            interractions,\n",
    "            k=rank_param\n",
    "        )\n",
    "        \n",
    "        sorted_indices = np.argsort(S)[::-1]\n",
    "        U, S, V = U[:, sorted_indices], S[sorted_indices], V[sorted_indices, :]\n",
    "    \n",
    "    return U, np.diag(S), V"
   ]
  },
  {
   "cell_type": "code",
   "execution_count": 15,
   "id": "5c5fecd4-4739-4f6b-9c9c-44bde8b66a34",
   "metadata": {},
   "outputs": [],
   "source": [
    "U, S, V = make_svd(interactions)\n",
    "assert np.allclose(U @ S @ V, interactions)"
   ]
  },
  {
   "cell_type": "code",
   "execution_count": 16,
   "id": "c5a5f59e-3832-4a7d-95b4-856531582bbd",
   "metadata": {},
   "outputs": [],
   "source": [
    "U1, S1, V1 = make_svd(interactions, 10)\n",
    "U, S, V = make_svd(coo_interactions, 10)\n",
    "assert np.allclose(U1 @ S1 @ V1, U @ S @ V)"
   ]
  },
  {
   "cell_type": "markdown",
   "id": "9443daa6-e9f1-414a-8107-5a3016452929",
   "metadata": {},
   "source": [
    "##### Задание 2.2. Теперь попробуем сделать рекомендации с помощью SVD. Мы научились восстанавливать исходную матрицу с помощью разложения, теперь же мы хотим порекомендовать пользователю айтемы, которые будут для него максимально релевантны(в восстановленной матрице у них будет самый высокий скор). Для каждого пользователя нужно будет найти индексы айтемов, которые имеют максимальный скор. При этом стоит обратить внимание, что мы не хотим рекомендовать пользователю айтемы, с которыми он уже взаимодействовал"
   ]
  },
  {
   "cell_type": "code",
   "execution_count": 17,
   "id": "787da18f-48d0-4dfa-b18f-b7e97cc98a4f",
   "metadata": {},
   "outputs": [],
   "source": [
    "def make_svd_recommendations(\n",
    "    interractions: Union[np.ndarray, coo_array], \n",
    "    n_singular_values: int = -1, \n",
    "    top_k: int = 100\n",
    "):\n",
    "    U, S, V = make_svd(interractions, n_singular_values)\n",
    "    items_cnt = interractions.shape[1]\n",
    "    y_pred = U @ S @ V\n",
    "\n",
    "    if isinstance(interractions, np.ndarray):\n",
    "        interactions_array = interractions\n",
    "    if isinstance(interractions, scipy_coo_array):\n",
    "        interactions_array = interractions.toarray()\n",
    "\n",
    "    rec_matrix = np.where(\n",
    "        interactions_array == 0,\n",
    "        y_pred,\n",
    "        -np.inf\n",
    "    )\n",
    "\n",
    "    last_k = items_cnt - top_k - 1  # np.argsort is ascending\n",
    "    return rec_matrix.argsort()[:, :last_k:-1]"
   ]
  },
  {
   "cell_type": "code",
   "execution_count": 18,
   "id": "ec72f3dd-c8f2-4434-b84e-ef016c4773a1",
   "metadata": {},
   "outputs": [],
   "source": [
    "recs = make_svd_recommendations(interactions, -1, 100)\n",
    "assert recs.shape == (interactions.shape[0], 100)"
   ]
  },
  {
   "cell_type": "markdown",
   "id": "f5d0b788-855a-4fd9-8cbb-38c0dd289ef5",
   "metadata": {},
   "source": [
    "##### Задание 2.3. Теперь давайте посмотрим как будет зависеть качетво рекомендаций, от количества сингулярных чисел, которые мы возьмем в SVD разложении. Переберите n_singular_values из списка [1, 10, 50, 200, 1000] и посмотрите как будет изменяться метрика NDCG на тестовом датасете для таких рекомендаций и как будет меняться время вычисления. Для каждого графики зависимости метрики NDCG от n_singular_values и времени работы алгоритма от n_singular_values(Время работы будет меняться только для sparse-матрицы, стоит запускать алгоритм именно для нее)"
   ]
  },
  {
   "cell_type": "code",
   "execution_count": 44,
   "id": "2ca51d2f-3a01-4d58-be86-c31af7bde5c0",
   "metadata": {},
   "outputs": [],
   "source": [
    "from scipy.sparse import csr_matrix"
   ]
  },
  {
   "cell_type": "code",
   "execution_count": 45,
   "id": "38155deb-3359-4e4a-9cd2-166edbd3e44d",
   "metadata": {},
   "outputs": [],
   "source": [
    "import time\n",
    "import matplotlib.pyplot as plt"
   ]
  },
  {
   "cell_type": "code",
   "execution_count": 49,
   "id": "56652953-4099-4e9d-92f2-72d61afe3cf6",
   "metadata": {},
   "outputs": [],
   "source": [
    "def ndcg_metric(\n",
    "    interactions: Union[np.ndarray, coo_array], \n",
    "    recs\n",
    ") -> float:\n",
    "    users_cnt, top_k = recs.shape\n",
    "    ndcg_scores = []\n",
    "\n",
    "    for user_id in range(users_cnt):\n",
    "        if isinstance(interactions, np.ndarray):\n",
    "            interactions_array = interactions[user_id, :]\n",
    "        elif isinstance(interactions, scipy_coo_array):\n",
    "            interactions_array = csr_matrix(interactions).getrow(user_id).toarray()[0,:]\n",
    "        items_pred = interactions_array[recs[user_id, :]]\n",
    "\n",
    "        if np.any(interactions_array != 0):\n",
    "            dcg_score = np.sum((2**items_pred - 1) / np.log2(np.arange(top_k) + 2))\n",
    "            idcg_score = np.sum((2**np.sort(items_pred)[::-1] - 1) / np.log2(np.arange(top_k) + 2))\n",
    "            ndcg_score = dcg_score / idcg_score if idcg_score > 0 else 0.\n",
    "            ndcg_scores.append(ndcg_score)\n",
    "    \n",
    "    return np.mean(ndcg_scores)"
   ]
  },
  {
   "cell_type": "code",
   "execution_count": 60,
   "id": "49e2bc46-7fdc-490d-85b3-4a9b58fcfbd6",
   "metadata": {},
   "outputs": [],
   "source": [
    "def plot_graphs(\n",
    "    interactions_train: Union[np.ndarray, coo_array], \n",
    "    interactions_test: Union[np.ndarray, coo_array], \n",
    "    top_k: int = 100\n",
    "):\n",
    "    n_singular_values_arr = np.round(np.linspace(1, 10**3, 10)).astype(int)\n",
    "    ndcg_scores = []\n",
    "    times = []\n",
    "\n",
    "    for n_singular_values in n_singular_values_arr:\n",
    "        start_time = time.time()\n",
    "        cur_recs = make_svd_recommendations(\n",
    "            interactions_train, \n",
    "            n_singular_values, \n",
    "            top_k\n",
    "        )\n",
    "        end_time = time.time()\n",
    "\n",
    "        ndcg_scores.append(ndcg_metric(interactions_test, cur_recs))\n",
    "        times.append(end_time - start_time)\n",
    "\n",
    "    fig, ax = plt.subplots(1, 2, figsize=(16, 8))\n",
    "\n",
    "    ax[0].plot(n_singular_values_arr, ndcg_scores)\n",
    "    ax[0].set_title(\"NCDG metric by n_singular_values\")\n",
    "    ax[0].set_xlabel(\"n_singular_values\")\n",
    "    ax[0].set_ylabel(\"NCDG metric\")\n",
    "\n",
    "    ax[1].plot(n_singular_values_arr, times)\n",
    "    ax[1].set_title(\"Time to fit by n_singular_values\")\n",
    "    ax[1].set_xlabel(\"n_singular_values\")\n",
    "    ax[1].set_ylabel(\"Time to fit, seconds\")\n",
    "\n",
    "    plt.show()"
   ]
  },
  {
   "cell_type": "code",
   "execution_count": 61,
   "id": "06f931fd-0eb0-4965-9e02-e005ed545c71",
   "metadata": {},
   "outputs": [
    {
     "data": {
      "image/png": "[encoded data removed]",
      "text/plain": [
       "<Figure size 1600x800 with 2 Axes>"
      ]
     },
     "metadata": {},
     "output_type": "display_data"
    },
    {
     "name": "stdout",
     "output_type": "stream",
     "text": [
      "CPU times: user 14min 49s, sys: 2min, total: 16min 49s\n",
      "Wall time: 5min 40s\n"
     ]
    }
   ],
   "source": [
    "%%time\n",
    "plot_graphs(df_to_coo(df_train), df_to_coo(df_test), top_k=100)"
   ]
  },
  {
   "cell_type": "markdown",
   "id": "a8612d96-c694-42d6-9525-58808f642577",
   "metadata": {},
   "source": [
    "##### Задание 3.1. Перейдем к [ALS](http://yifanhu.net/PUB/cf.pdf). Возьмем реализацию iALS из библиотеки [implicit](https://benfred.github.io/implicit/api/models/cpu/als.html). Обучите ALS на нашем датасете, сделайте top_k рекомендации для юзеров из тестового датасета, и сравните метрики ALS с метриками, которые получились в SVD. Попробуйте перебрать гиперпараметры и найдите оптимальное число факторов, коэффициент alpha и коэффициент регуляризации."
   ]
  },
  {
   "cell_type": "code",
   "execution_count": 69,
   "id": "90f3db26-f061-480d-ad60-3fea6fa164cf",
   "metadata": {},
   "outputs": [],
   "source": [
    "from implicit.cpu.als import AlternatingLeastSquares"
   ]
  },
  {
   "cell_type": "code",
   "execution_count": 115,
   "id": "b5fb16e9-49d1-4d7e-a384-ccbdad4f1cdf",
   "metadata": {},
   "outputs": [],
   "source": [
    "def make_als_recommendations(\n",
    "    interractions: Union[np.ndarray, coo_array], \n",
    "    top_k: int = 100, \n",
    "    n_factors: int = 100,\n",
    "    alpha: float = 1.0,\n",
    "    regularization: float = 0.01,\n",
    "):\n",
    "    csr_matrix_interations = csr_matrix(interactions)\n",
    "\n",
    "    als_model = AlternatingLeastSquares(\n",
    "        factors=n_factors,\n",
    "        regularization=regularization,\n",
    "        alpha=alpha\n",
    "    )\n",
    "\n",
    "    als_model.fit(\n",
    "        csr_matrix_interations,\n",
    "        show_progress=False\n",
    "    )\n",
    "    \n",
    "    recs = als_model.recommend(\n",
    "        np.arange(csr_matrix_interations.shape[0]),\n",
    "        csr_matrix_interations,\n",
    "        N=top_k\n",
    "    )\n",
    "    \n",
    "    return recs[0]"
   ]
  },
  {
   "cell_type": "code",
   "execution_count": 76,
   "id": "b5573d01-8512-450f-9260-03928ee9b367",
   "metadata": {},
   "outputs": [],
   "source": [
    "recs = make_als_recommendations(interactions)\n",
    "assert recs.shape == (interactions.shape[0], 100)"
   ]
  },
  {
   "cell_type": "code",
   "execution_count": 83,
   "id": "a836748b-4565-4792-a0df-f0dcb5ebb8c0",
   "metadata": {},
   "outputs": [],
   "source": [
    "from tqdm import tqdm\n",
    "from sklearn.model_selection import ParameterGrid"
   ]
  },
  {
   "cell_type": "code",
   "execution_count": 93,
   "id": "ddd9a956-d2f5-4560-8d0c-c72164ebdfa8",
   "metadata": {
    "scrolled": true
   },
   "outputs": [
    {
     "name": "stderr",
     "output_type": "stream",
     "text": [
      "\n",
      "\u001b[A%|                                                   | 0/125 [00:00<?, ?it/s]\n",
      "\u001b[A%|▎                                          | 1/125 [00:21<44:43, 21.64s/it]"
     ]
    },
    {
     "name": "stdout",
     "output_type": "stream",
     "text": [
      "0.4729913691041731 score on {'alpha': 0.5, 'n_factors': 10, 'regularization': 0.001}\n"
     ]
    },
    {
     "name": "stderr",
     "output_type": "stream",
     "text": [
      "\n",
      "\u001b[A%|▋                                          | 2/125 [00:43<44:14, 21.58s/it]"
     ]
    },
    {
     "name": "stdout",
     "output_type": "stream",
     "text": [
      "0.4707503226268187 score on {'alpha': 0.5, 'n_factors': 10, 'regularization': 0.25075}\n"
     ]
    },
    {
     "name": "stderr",
     "output_type": "stream",
     "text": [
      "\n",
      "\u001b[A%|█                                          | 3/125 [01:04<43:56, 21.61s/it]"
     ]
    },
    {
     "name": "stdout",
     "output_type": "stream",
     "text": [
      "0.4716458151010804 score on {'alpha': 0.5, 'n_factors': 10, 'regularization': 0.5005}\n"
     ]
    },
    {
     "name": "stderr",
     "output_type": "stream",
     "text": [
      "\n",
      "\u001b[A%|█▍                                         | 4/125 [01:26<43:49, 21.73s/it]"
     ]
    },
    {
     "name": "stdout",
     "output_type": "stream",
     "text": [
      "0.4705213378957203 score on {'alpha': 0.5, 'n_factors': 10, 'regularization': 0.75025}\n"
     ]
    },
    {
     "name": "stderr",
     "output_type": "stream",
     "text": [
      "\n",
      "\u001b[A%|█▋                                         | 5/125 [01:48<43:21, 21.68s/it]"
     ]
    },
    {
     "name": "stdout",
     "output_type": "stream",
     "text": [
      "0.47069303369835613 score on {'alpha': 0.5, 'n_factors': 10, 'regularization': 1.0}\n"
     ]
    },
    {
     "name": "stderr",
     "output_type": "stream",
     "text": [
      "\n",
      "\u001b[A%|██                                         | 6/125 [02:12<44:34, 22.48s/it]"
     ]
    },
    {
     "name": "stdout",
     "output_type": "stream",
     "text": [
      "0.4491067981257153 score on {'alpha': 0.5, 'n_factors': 70, 'regularization': 0.001}\n"
     ]
    },
    {
     "name": "stderr",
     "output_type": "stream",
     "text": [
      "\n",
      "\u001b[A%|██▍                                        | 7/125 [02:36<45:09, 22.96s/it]"
     ]
    },
    {
     "name": "stdout",
     "output_type": "stream",
     "text": [
      "0.44933719636036284 score on {'alpha': 0.5, 'n_factors': 70, 'regularization': 0.25075}\n"
     ]
    },
    {
     "name": "stderr",
     "output_type": "stream",
     "text": [
      "\n",
      "\u001b[A%|██▊                                        | 8/125 [03:00<45:39, 23.41s/it]"
     ]
    },
    {
     "name": "stdout",
     "output_type": "stream",
     "text": [
      "0.44828733488404604 score on {'alpha': 0.5, 'n_factors': 70, 'regularization': 0.5005}\n"
     ]
    },
    {
     "name": "stderr",
     "output_type": "stream",
     "text": [
      "\n",
      "\u001b[A%|███                                        | 9/125 [03:24<45:44, 23.66s/it]"
     ]
    },
    {
     "name": "stdout",
     "output_type": "stream",
     "text": [
      "0.451526978003269 score on {'alpha': 0.5, 'n_factors': 70, 'regularization': 0.75025}\n"
     ]
    },
    {
     "name": "stderr",
     "output_type": "stream",
     "text": [
      "\n",
      "\u001b[A%|███▎                                      | 10/125 [03:49<45:45, 23.88s/it]"
     ]
    },
    {
     "name": "stdout",
     "output_type": "stream",
     "text": [
      "0.4487973074959741 score on {'alpha': 0.5, 'n_factors': 70, 'regularization': 1.0}\n"
     ]
    },
    {
     "name": "stderr",
     "output_type": "stream",
     "text": [
      "\n",
      "\u001b[A%|███▋                                      | 11/125 [04:16<47:27, 24.97s/it]"
     ]
    },
    {
     "name": "stdout",
     "output_type": "stream",
     "text": [
      "0.42818804313236286 score on {'alpha': 0.5, 'n_factors': 130, 'regularization': 0.001}\n"
     ]
    },
    {
     "name": "stderr",
     "output_type": "stream",
     "text": [
      "\n",
      "\u001b[A%|████                                      | 12/125 [04:44<48:28, 25.74s/it]"
     ]
    },
    {
     "name": "stdout",
     "output_type": "stream",
     "text": [
      "0.4293687759349351 score on {'alpha': 0.5, 'n_factors': 130, 'regularization': 0.25075}\n"
     ]
    },
    {
     "name": "stderr",
     "output_type": "stream",
     "text": [
      "\n",
      "\u001b[A%|████▎                                     | 13/125 [05:11<49:00, 26.26s/it]"
     ]
    },
    {
     "name": "stdout",
     "output_type": "stream",
     "text": [
      "0.4273476884672879 score on {'alpha': 0.5, 'n_factors': 130, 'regularization': 0.5005}\n"
     ]
    },
    {
     "name": "stderr",
     "output_type": "stream",
     "text": [
      "\n",
      "\u001b[A%|████▋                                     | 14/125 [05:39<49:16, 26.63s/it]"
     ]
    },
    {
     "name": "stdout",
     "output_type": "stream",
     "text": [
      "0.42828399289302216 score on {'alpha': 0.5, 'n_factors': 130, 'regularization': 0.75025}\n"
     ]
    },
    {
     "name": "stderr",
     "output_type": "stream",
     "text": [
      "\n",
      "\u001b[A%|█████                                     | 15/125 [06:06<49:17, 26.88s/it]"
     ]
    },
    {
     "name": "stdout",
     "output_type": "stream",
     "text": [
      "0.4272897299577087 score on {'alpha': 0.5, 'n_factors': 130, 'regularization': 1.0}\n"
     ]
    },
    {
     "name": "stderr",
     "output_type": "stream",
     "text": [
      "\n",
      "\u001b[A%|█████▍                                    | 16/125 [06:43<54:09, 29.81s/it]"
     ]
    },
    {
     "name": "stdout",
     "output_type": "stream",
     "text": [
      "0.4085109109470219 score on {'alpha': 0.5, 'n_factors': 190, 'regularization': 0.001}\n"
     ]
    },
    {
     "name": "stderr",
     "output_type": "stream",
     "text": [
      "\n",
      "\u001b[A%|█████▋                                    | 17/125 [07:19<57:20, 31.86s/it]"
     ]
    },
    {
     "name": "stdout",
     "output_type": "stream",
     "text": [
      "0.4078814882528472 score on {'alpha': 0.5, 'n_factors': 190, 'regularization': 0.25075}\n"
     ]
    },
    {
     "name": "stderr",
     "output_type": "stream",
     "text": [
      "\n",
      "\u001b[A%|██████                                    | 18/125 [07:56<59:26, 33.33s/it]"
     ]
    },
    {
     "name": "stdout",
     "output_type": "stream",
     "text": [
      "0.4067663651281792 score on {'alpha': 0.5, 'n_factors': 190, 'regularization': 0.5005}\n"
     ]
    },
    {
     "name": "stderr",
     "output_type": "stream",
     "text": [
      "\n",
      "\u001b[A%|██████                                  | 19/125 [08:33<1:00:43, 34.38s/it]"
     ]
    },
    {
     "name": "stdout",
     "output_type": "stream",
     "text": [
      "0.4076354440588907 score on {'alpha': 0.5, 'n_factors': 190, 'regularization': 0.75025}\n"
     ]
    },
    {
     "name": "stderr",
     "output_type": "stream",
     "text": [
      "\n",
      "\u001b[A%|██████▍                                 | 20/125 [09:09<1:01:18, 35.04s/it]"
     ]
    },
    {
     "name": "stdout",
     "output_type": "stream",
     "text": [
      "0.4081291734562758 score on {'alpha': 0.5, 'n_factors': 190, 'regularization': 1.0}\n"
     ]
    },
    {
     "name": "stderr",
     "output_type": "stream",
     "text": [
      "\n",
      "\u001b[A%|██████▋                                 | 21/125 [10:04<1:10:55, 40.92s/it]"
     ]
    },
    {
     "name": "stdout",
     "output_type": "stream",
     "text": [
      "0.3913533787173913 score on {'alpha': 0.5, 'n_factors': 250, 'regularization': 0.001}\n"
     ]
    },
    {
     "name": "stderr",
     "output_type": "stream",
     "text": [
      "\n",
      "\u001b[A%|███████                                 | 22/125 [10:59<1:17:13, 44.98s/it]"
     ]
    },
    {
     "name": "stdout",
     "output_type": "stream",
     "text": [
      "0.389340148079399 score on {'alpha': 0.5, 'n_factors': 250, 'regularization': 0.25075}\n"
     ]
    },
    {
     "name": "stderr",
     "output_type": "stream",
     "text": [
      "\n",
      "\u001b[A%|███████▎                                | 23/125 [11:55<1:22:27, 48.50s/it]"
     ]
    },
    {
     "name": "stdout",
     "output_type": "stream",
     "text": [
      "0.39009581708801316 score on {'alpha': 0.5, 'n_factors': 250, 'regularization': 0.5005}\n"
     ]
    },
    {
     "name": "stderr",
     "output_type": "stream",
     "text": [
      "\n",
      "\u001b[A%|███████▋                                | 24/125 [12:50<1:24:42, 50.32s/it]"
     ]
    },
    {
     "name": "stdout",
     "output_type": "stream",
     "text": [
      "0.3898426833777125 score on {'alpha': 0.5, 'n_factors': 250, 'regularization': 0.75025}\n"
     ]
    },
    {
     "name": "stderr",
     "output_type": "stream",
     "text": [
      "\n",
      "\u001b[A%|████████                                | 25/125 [13:43<1:25:30, 51.31s/it]"
     ]
    },
    {
     "name": "stdout",
     "output_type": "stream",
     "text": [
      "0.39072993542099355 score on {'alpha': 0.5, 'n_factors': 250, 'regularization': 1.0}\n"
     ]
    },
    {
     "name": "stderr",
     "output_type": "stream",
     "text": [
      "\n",
      "\u001b[A%|████████▎                               | 26/125 [14:05<1:10:01, 42.44s/it]"
     ]
    },
    {
     "name": "stdout",
     "output_type": "stream",
     "text": [
      "0.46844732436242437 score on {'alpha': 0.875, 'n_factors': 10, 'regularization': 0.001}\n"
     ]
    },
    {
     "name": "stderr",
     "output_type": "stream",
     "text": [
      "\n",
      "\u001b[A%|█████████                                 | 27/125 [14:27<59:11, 36.24s/it]"
     ]
    },
    {
     "name": "stdout",
     "output_type": "stream",
     "text": [
      "0.47185388937525563 score on {'alpha': 0.875, 'n_factors': 10, 'regularization': 0.25075}\n"
     ]
    },
    {
     "name": "stderr",
     "output_type": "stream",
     "text": [
      "\n",
      "\u001b[A%|█████████▍                                | 28/125 [14:49<51:41, 31.98s/it]"
     ]
    },
    {
     "name": "stdout",
     "output_type": "stream",
     "text": [
      "0.4679081485625859 score on {'alpha': 0.875, 'n_factors': 10, 'regularization': 0.5005}\n"
     ]
    },
    {
     "name": "stderr",
     "output_type": "stream",
     "text": [
      "\n",
      "\u001b[A%|█████████▋                                | 29/125 [15:11<46:25, 29.01s/it]"
     ]
    },
    {
     "name": "stdout",
     "output_type": "stream",
     "text": [
      "0.46900714029096824 score on {'alpha': 0.875, 'n_factors': 10, 'regularization': 0.75025}\n"
     ]
    },
    {
     "name": "stderr",
     "output_type": "stream",
     "text": [
      "\n",
      "\u001b[A%|██████████                                | 30/125 [15:33<42:32, 26.87s/it]"
     ]
    },
    {
     "name": "stdout",
     "output_type": "stream",
     "text": [
      "0.4690460492971774 score on {'alpha': 0.875, 'n_factors': 10, 'regularization': 1.0}\n"
     ]
    },
    {
     "name": "stderr",
     "output_type": "stream",
     "text": [
      "\n",
      "\u001b[A%|██████████▍                               | 31/125 [15:57<40:52, 26.10s/it]"
     ]
    },
    {
     "name": "stdout",
     "output_type": "stream",
     "text": [
      "0.4480797300650701 score on {'alpha': 0.875, 'n_factors': 70, 'regularization': 0.001}\n"
     ]
    },
    {
     "name": "stderr",
     "output_type": "stream",
     "text": [
      "\n",
      "\u001b[A%|██████████▊                               | 32/125 [16:21<39:34, 25.53s/it]"
     ]
    },
    {
     "name": "stdout",
     "output_type": "stream",
     "text": [
      "0.44704073418750084 score on {'alpha': 0.875, 'n_factors': 70, 'regularization': 0.25075}\n"
     ]
    },
    {
     "name": "stderr",
     "output_type": "stream",
     "text": [
      "\n",
      "\u001b[A%|███████████                               | 33/125 [16:46<38:36, 25.18s/it]"
     ]
    },
    {
     "name": "stdout",
     "output_type": "stream",
     "text": [
      "0.4481619656383471 score on {'alpha': 0.875, 'n_factors': 70, 'regularization': 0.5005}\n"
     ]
    },
    {
     "name": "stderr",
     "output_type": "stream",
     "text": [
      "\n",
      "\u001b[A%|███████████▍                              | 34/125 [17:10<37:42, 24.87s/it]"
     ]
    },
    {
     "name": "stdout",
     "output_type": "stream",
     "text": [
      "0.44760727746713264 score on {'alpha': 0.875, 'n_factors': 70, 'regularization': 0.75025}\n"
     ]
    },
    {
     "name": "stderr",
     "output_type": "stream",
     "text": [
      "\n",
      "\u001b[A%|███████████▊                              | 35/125 [17:34<36:57, 24.63s/it]"
     ]
    },
    {
     "name": "stdout",
     "output_type": "stream",
     "text": [
      "0.4465596698072831 score on {'alpha': 0.875, 'n_factors': 70, 'regularization': 1.0}\n"
     ]
    },
    {
     "name": "stderr",
     "output_type": "stream",
     "text": [
      "\n",
      "\u001b[A%|████████████                              | 36/125 [18:02<37:53, 25.55s/it]"
     ]
    },
    {
     "name": "stdout",
     "output_type": "stream",
     "text": [
      "0.4288310714608974 score on {'alpha': 0.875, 'n_factors': 130, 'regularization': 0.001}\n"
     ]
    },
    {
     "name": "stderr",
     "output_type": "stream",
     "text": [
      "\n",
      "\u001b[A%|████████████▍                             | 37/125 [18:29<38:21, 26.16s/it]"
     ]
    },
    {
     "name": "stdout",
     "output_type": "stream",
     "text": [
      "0.42543800726265496 score on {'alpha': 0.875, 'n_factors': 130, 'regularization': 0.25075}\n"
     ]
    },
    {
     "name": "stderr",
     "output_type": "stream",
     "text": [
      "\n",
      "\u001b[A%|████████████▊                             | 38/125 [18:57<38:28, 26.53s/it]"
     ]
    },
    {
     "name": "stdout",
     "output_type": "stream",
     "text": [
      "0.4293739043688771 score on {'alpha': 0.875, 'n_factors': 130, 'regularization': 0.5005}\n"
     ]
    },
    {
     "name": "stderr",
     "output_type": "stream",
     "text": [
      "\n",
      "\u001b[A%|█████████████                             | 39/125 [19:24<38:24, 26.79s/it]"
     ]
    },
    {
     "name": "stdout",
     "output_type": "stream",
     "text": [
      "0.4268411378664931 score on {'alpha': 0.875, 'n_factors': 130, 'regularization': 0.75025}\n"
     ]
    },
    {
     "name": "stderr",
     "output_type": "stream",
     "text": [
      "\n",
      "\u001b[A%|█████████████▍                            | 40/125 [19:52<38:13, 26.98s/it]"
     ]
    },
    {
     "name": "stdout",
     "output_type": "stream",
     "text": [
      "0.42637858067962897 score on {'alpha': 0.875, 'n_factors': 130, 'regularization': 1.0}\n"
     ]
    },
    {
     "name": "stderr",
     "output_type": "stream",
     "text": [
      "\n",
      "\u001b[A%|█████████████▊                            | 41/125 [20:29<42:01, 30.02s/it]"
     ]
    },
    {
     "name": "stdout",
     "output_type": "stream",
     "text": [
      "0.4101092689745943 score on {'alpha': 0.875, 'n_factors': 190, 'regularization': 0.001}\n"
     ]
    },
    {
     "name": "stderr",
     "output_type": "stream",
     "text": [
      "\n",
      "\u001b[A%|██████████████                            | 42/125 [21:05<44:20, 32.05s/it]"
     ]
    },
    {
     "name": "stdout",
     "output_type": "stream",
     "text": [
      "0.41115716547459186 score on {'alpha': 0.875, 'n_factors': 190, 'regularization': 0.25075}\n"
     ]
    },
    {
     "name": "stderr",
     "output_type": "stream",
     "text": [
      "\n",
      "\u001b[A%|██████████████▍                           | 43/125 [21:42<45:47, 33.51s/it]"
     ]
    },
    {
     "name": "stdout",
     "output_type": "stream",
     "text": [
      "0.4074452959989248 score on {'alpha': 0.875, 'n_factors': 190, 'regularization': 0.5005}\n"
     ]
    },
    {
     "name": "stderr",
     "output_type": "stream",
     "text": [
      "\n",
      "\u001b[A%|██████████████▊                           | 44/125 [22:19<46:35, 34.52s/it]"
     ]
    },
    {
     "name": "stdout",
     "output_type": "stream",
     "text": [
      "0.4075421422627357 score on {'alpha': 0.875, 'n_factors': 190, 'regularization': 0.75025}\n"
     ]
    },
    {
     "name": "stderr",
     "output_type": "stream",
     "text": [
      "\n",
      "\u001b[A%|███████████████                           | 45/125 [22:56<46:58, 35.24s/it]"
     ]
    },
    {
     "name": "stdout",
     "output_type": "stream",
     "text": [
      "0.40904431678180403 score on {'alpha': 0.875, 'n_factors': 190, 'regularization': 1.0}\n"
     ]
    },
    {
     "name": "stderr",
     "output_type": "stream",
     "text": [
      "\n",
      "\u001b[A%|███████████████▍                          | 46/125 [23:50<53:42, 40.79s/it]"
     ]
    },
    {
     "name": "stdout",
     "output_type": "stream",
     "text": [
      "0.389824964162452 score on {'alpha': 0.875, 'n_factors': 250, 'regularization': 0.001}\n"
     ]
    },
    {
     "name": "stderr",
     "output_type": "stream",
     "text": [
      "\n",
      "\u001b[A%|███████████████▊                          | 47/125 [24:44<58:10, 44.75s/it]"
     ]
    },
    {
     "name": "stdout",
     "output_type": "stream",
     "text": [
      "0.39245627602157596 score on {'alpha': 0.875, 'n_factors': 250, 'regularization': 0.25075}\n"
     ]
    },
    {
     "name": "stderr",
     "output_type": "stream",
     "text": [
      "\n",
      "\u001b[A%|███████████████▎                        | 48/125 [25:38<1:00:57, 47.50s/it]"
     ]
    },
    {
     "name": "stdout",
     "output_type": "stream",
     "text": [
      "0.3964551108313504 score on {'alpha': 0.875, 'n_factors': 250, 'regularization': 0.5005}\n"
     ]
    },
    {
     "name": "stderr",
     "output_type": "stream",
     "text": [
      "\n",
      "\u001b[A%|███████████████▋                        | 49/125 [26:33<1:02:57, 49.70s/it]"
     ]
    },
    {
     "name": "stdout",
     "output_type": "stream",
     "text": [
      "0.39347825154423655 score on {'alpha': 0.875, 'n_factors': 250, 'regularization': 0.75025}\n"
     ]
    },
    {
     "name": "stderr",
     "output_type": "stream",
     "text": [
      "\n",
      "\u001b[A%|████████████████                        | 50/125 [27:26<1:03:35, 50.88s/it]"
     ]
    },
    {
     "name": "stdout",
     "output_type": "stream",
     "text": [
      "0.39057665824417576 score on {'alpha': 0.875, 'n_factors': 250, 'regularization': 1.0}\n"
     ]
    },
    {
     "name": "stderr",
     "output_type": "stream",
     "text": [
      "\n",
      "\u001b[A%|█████████████████▏                        | 51/125 [27:48<51:59, 42.15s/it]"
     ]
    },
    {
     "name": "stdout",
     "output_type": "stream",
     "text": [
      "0.46806311350424523 score on {'alpha': 1.25, 'n_factors': 10, 'regularization': 0.001}\n"
     ]
    },
    {
     "name": "stderr",
     "output_type": "stream",
     "text": [
      "\n",
      "\u001b[A%|█████████████████▍                        | 52/125 [28:10<43:49, 36.02s/it]"
     ]
    },
    {
     "name": "stdout",
     "output_type": "stream",
     "text": [
      "0.46594974887611346 score on {'alpha': 1.25, 'n_factors': 10, 'regularization': 0.25075}\n"
     ]
    },
    {
     "name": "stderr",
     "output_type": "stream",
     "text": [
      "\n",
      "\u001b[A%|█████████████████▊                        | 53/125 [28:32<38:05, 31.75s/it]"
     ]
    },
    {
     "name": "stdout",
     "output_type": "stream",
     "text": [
      "0.46673485062498943 score on {'alpha': 1.25, 'n_factors': 10, 'regularization': 0.5005}\n"
     ]
    },
    {
     "name": "stderr",
     "output_type": "stream",
     "text": [
      "\n",
      "\u001b[A%|██████████████████▏                       | 54/125 [28:53<34:03, 28.79s/it]"
     ]
    },
    {
     "name": "stdout",
     "output_type": "stream",
     "text": [
      "0.46932715309630857 score on {'alpha': 1.25, 'n_factors': 10, 'regularization': 0.75025}\n"
     ]
    },
    {
     "name": "stderr",
     "output_type": "stream",
     "text": [
      "\n",
      "\u001b[A%|██████████████████▍                       | 55/125 [29:15<31:08, 26.70s/it]"
     ]
    },
    {
     "name": "stdout",
     "output_type": "stream",
     "text": [
      "0.46716869557953067 score on {'alpha': 1.25, 'n_factors': 10, 'regularization': 1.0}\n"
     ]
    },
    {
     "name": "stderr",
     "output_type": "stream",
     "text": [
      "\n",
      "\u001b[A%|██████████████████▊                       | 56/125 [29:39<29:50, 25.95s/it]"
     ]
    },
    {
     "name": "stdout",
     "output_type": "stream",
     "text": [
      "0.4428574755930504 score on {'alpha': 1.25, 'n_factors': 70, 'regularization': 0.001}\n"
     ]
    },
    {
     "name": "stderr",
     "output_type": "stream",
     "text": [
      "\n",
      "\u001b[A%|███████████████████▏                      | 57/125 [30:04<28:47, 25.40s/it]"
     ]
    },
    {
     "name": "stdout",
     "output_type": "stream",
     "text": [
      "0.44166039756524683 score on {'alpha': 1.25, 'n_factors': 70, 'regularization': 0.25075}\n"
     ]
    },
    {
     "name": "stderr",
     "output_type": "stream",
     "text": [
      "\n",
      "\u001b[A%|███████████████████▍                      | 58/125 [30:28<28:02, 25.11s/it]"
     ]
    },
    {
     "name": "stdout",
     "output_type": "stream",
     "text": [
      "0.4442286755111758 score on {'alpha': 1.25, 'n_factors': 70, 'regularization': 0.5005}\n"
     ]
    },
    {
     "name": "stderr",
     "output_type": "stream",
     "text": [
      "\n",
      "\u001b[A%|███████████████████▊                      | 59/125 [30:52<27:17, 24.81s/it]"
     ]
    },
    {
     "name": "stdout",
     "output_type": "stream",
     "text": [
      "0.44249010436437297 score on {'alpha': 1.25, 'n_factors': 70, 'regularization': 0.75025}\n"
     ]
    },
    {
     "name": "stderr",
     "output_type": "stream",
     "text": [
      "\n",
      "\u001b[A%|████████████████████▏                     | 60/125 [31:16<26:38, 24.60s/it]"
     ]
    },
    {
     "name": "stdout",
     "output_type": "stream",
     "text": [
      "0.44094882703297267 score on {'alpha': 1.25, 'n_factors': 70, 'regularization': 1.0}\n"
     ]
    },
    {
     "name": "stderr",
     "output_type": "stream",
     "text": [
      "\n",
      "\u001b[A%|████████████████████▍                     | 61/125 [31:44<27:09, 25.46s/it]"
     ]
    },
    {
     "name": "stdout",
     "output_type": "stream",
     "text": [
      "0.4249366928665917 score on {'alpha': 1.25, 'n_factors': 130, 'regularization': 0.001}\n"
     ]
    },
    {
     "name": "stderr",
     "output_type": "stream",
     "text": [
      "\n",
      "\u001b[A%|████████████████████▊                     | 62/125 [32:11<27:22, 26.07s/it]"
     ]
    },
    {
     "name": "stdout",
     "output_type": "stream",
     "text": [
      "0.4281911334197485 score on {'alpha': 1.25, 'n_factors': 130, 'regularization': 0.25075}\n"
     ]
    },
    {
     "name": "stderr",
     "output_type": "stream",
     "text": [
      "\n",
      "\u001b[A%|█████████████████████▏                    | 63/125 [32:39<27:23, 26.50s/it]"
     ]
    },
    {
     "name": "stdout",
     "output_type": "stream",
     "text": [
      "0.42544077389131996 score on {'alpha': 1.25, 'n_factors': 130, 'regularization': 0.5005}\n"
     ]
    },
    {
     "name": "stderr",
     "output_type": "stream",
     "text": [
      "\n",
      "\u001b[A%|█████████████████████▌                    | 64/125 [33:06<27:14, 26.80s/it]"
     ]
    },
    {
     "name": "stdout",
     "output_type": "stream",
     "text": [
      "0.4258353093442654 score on {'alpha': 1.25, 'n_factors': 130, 'regularization': 0.75025}\n"
     ]
    },
    {
     "name": "stderr",
     "output_type": "stream",
     "text": [
      "\n",
      "\u001b[A%|█████████████████████▊                    | 65/125 [33:34<26:59, 27.00s/it]"
     ]
    },
    {
     "name": "stdout",
     "output_type": "stream",
     "text": [
      "0.4265271782047941 score on {'alpha': 1.25, 'n_factors': 130, 'regularization': 1.0}\n"
     ]
    },
    {
     "name": "stderr",
     "output_type": "stream",
     "text": [
      "\n",
      "\u001b[A%|██████████████████████▏                   | 66/125 [34:10<29:26, 29.95s/it]"
     ]
    },
    {
     "name": "stdout",
     "output_type": "stream",
     "text": [
      "0.40604630788839646 score on {'alpha': 1.25, 'n_factors': 190, 'regularization': 0.001}\n"
     ]
    },
    {
     "name": "stderr",
     "output_type": "stream",
     "text": [
      "\n",
      "\u001b[A%|██████████████████████▌                   | 67/125 [34:47<30:54, 31.97s/it]"
     ]
    },
    {
     "name": "stdout",
     "output_type": "stream",
     "text": [
      "0.4115290271617729 score on {'alpha': 1.25, 'n_factors': 190, 'regularization': 0.25075}\n"
     ]
    },
    {
     "name": "stderr",
     "output_type": "stream",
     "text": [
      "\n",
      "\u001b[A%|██████████████████████▊                   | 68/125 [35:24<31:42, 33.37s/it]"
     ]
    },
    {
     "name": "stdout",
     "output_type": "stream",
     "text": [
      "0.40828207831307844 score on {'alpha': 1.25, 'n_factors': 190, 'regularization': 0.5005}\n"
     ]
    },
    {
     "name": "stderr",
     "output_type": "stream",
     "text": [
      "\n",
      "\u001b[A%|███████████████████████▏                  | 69/125 [36:00<32:03, 34.35s/it]"
     ]
    },
    {
     "name": "stdout",
     "output_type": "stream",
     "text": [
      "0.4113675927930134 score on {'alpha': 1.25, 'n_factors': 190, 'regularization': 0.75025}\n"
     ]
    },
    {
     "name": "stderr",
     "output_type": "stream",
     "text": [
      "\n",
      "\u001b[A%|███████████████████████▌                  | 70/125 [36:37<32:10, 35.09s/it]"
     ]
    },
    {
     "name": "stdout",
     "output_type": "stream",
     "text": [
      "0.412652863139968 score on {'alpha': 1.25, 'n_factors': 190, 'regularization': 1.0}\n"
     ]
    },
    {
     "name": "stderr",
     "output_type": "stream",
     "text": [
      "\n",
      "\u001b[A%|███████████████████████▊                  | 71/125 [37:36<37:51, 42.06s/it]"
     ]
    },
    {
     "name": "stdout",
     "output_type": "stream",
     "text": [
      "0.3926557917636986 score on {'alpha': 1.25, 'n_factors': 250, 'regularization': 0.001}\n"
     ]
    },
    {
     "name": "stderr",
     "output_type": "stream",
     "text": [
      "\n",
      "\u001b[A%|████████████████████████▏                 | 72/125 [38:34<41:31, 47.02s/it]"
     ]
    },
    {
     "name": "stdout",
     "output_type": "stream",
     "text": [
      "0.3940423079421393 score on {'alpha': 1.25, 'n_factors': 250, 'regularization': 0.25075}\n"
     ]
    },
    {
     "name": "stderr",
     "output_type": "stream",
     "text": [
      "\n",
      "\u001b[A%|████████████████████████▌                 | 73/125 [39:33<43:46, 50.51s/it]"
     ]
    },
    {
     "name": "stdout",
     "output_type": "stream",
     "text": [
      "0.3959458732874956 score on {'alpha': 1.25, 'n_factors': 250, 'regularization': 0.5005}\n"
     ]
    },
    {
     "name": "stderr",
     "output_type": "stream",
     "text": [
      "\n",
      "\u001b[A%|████████████████████████▊                 | 74/125 [40:32<45:02, 53.00s/it]"
     ]
    },
    {
     "name": "stdout",
     "output_type": "stream",
     "text": [
      "0.3957228718371061 score on {'alpha': 1.25, 'n_factors': 250, 'regularization': 0.75025}\n"
     ]
    },
    {
     "name": "stderr",
     "output_type": "stream",
     "text": [
      "\n",
      "\u001b[A%|█████████████████████████▏                | 75/125 [41:29<45:22, 54.45s/it]"
     ]
    },
    {
     "name": "stdout",
     "output_type": "stream",
     "text": [
      "0.3941792459704492 score on {'alpha': 1.25, 'n_factors': 250, 'regularization': 1.0}\n"
     ]
    },
    {
     "name": "stderr",
     "output_type": "stream",
     "text": [
      "\n",
      "\u001b[A%|█████████████████████████▌                | 76/125 [41:51<36:26, 44.63s/it]"
     ]
    },
    {
     "name": "stdout",
     "output_type": "stream",
     "text": [
      "0.4656330935051608 score on {'alpha': 1.625, 'n_factors': 10, 'regularization': 0.001}\n"
     ]
    },
    {
     "name": "stderr",
     "output_type": "stream",
     "text": [
      "\n",
      "\u001b[A%|█████████████████████████▊                | 77/125 [42:13<30:12, 37.77s/it]"
     ]
    },
    {
     "name": "stdout",
     "output_type": "stream",
     "text": [
      "0.46639063978206835 score on {'alpha': 1.625, 'n_factors': 10, 'regularization': 0.25075}\n"
     ]
    },
    {
     "name": "stderr",
     "output_type": "stream",
     "text": [
      "\n",
      "\u001b[A%|██████████████████████████▏               | 78/125 [42:35<25:48, 32.95s/it]"
     ]
    },
    {
     "name": "stdout",
     "output_type": "stream",
     "text": [
      "0.46510284426237863 score on {'alpha': 1.625, 'n_factors': 10, 'regularization': 0.5005}\n"
     ]
    },
    {
     "name": "stderr",
     "output_type": "stream",
     "text": [
      "\n",
      "\u001b[A%|██████████████████████████▌               | 79/125 [42:57<22:45, 29.69s/it]"
     ]
    },
    {
     "name": "stdout",
     "output_type": "stream",
     "text": [
      "0.46558414959173505 score on {'alpha': 1.625, 'n_factors': 10, 'regularization': 0.75025}\n"
     ]
    },
    {
     "name": "stderr",
     "output_type": "stream",
     "text": [
      "\n",
      "\u001b[A%|██████████████████████████▉               | 80/125 [43:18<20:28, 27.30s/it]"
     ]
    },
    {
     "name": "stdout",
     "output_type": "stream",
     "text": [
      "0.4657578563337493 score on {'alpha': 1.625, 'n_factors': 10, 'regularization': 1.0}\n"
     ]
    },
    {
     "name": "stderr",
     "output_type": "stream",
     "text": [
      "\n",
      "\u001b[A%|███████████████████████████▏              | 81/125 [43:43<19:19, 26.36s/it]"
     ]
    },
    {
     "name": "stdout",
     "output_type": "stream",
     "text": [
      "0.4387769692059617 score on {'alpha': 1.625, 'n_factors': 70, 'regularization': 0.001}\n"
     ]
    },
    {
     "name": "stderr",
     "output_type": "stream",
     "text": [
      "\n",
      "\u001b[A%|███████████████████████████▌              | 82/125 [44:07<18:25, 25.72s/it]"
     ]
    },
    {
     "name": "stdout",
     "output_type": "stream",
     "text": [
      "0.4375043308180811 score on {'alpha': 1.625, 'n_factors': 70, 'regularization': 0.25075}\n"
     ]
    },
    {
     "name": "stderr",
     "output_type": "stream",
     "text": [
      "\n",
      "\u001b[A%|███████████████████████████▉              | 83/125 [44:31<17:43, 25.32s/it]"
     ]
    },
    {
     "name": "stdout",
     "output_type": "stream",
     "text": [
      "0.439133979853723 score on {'alpha': 1.625, 'n_factors': 70, 'regularization': 0.5005}\n"
     ]
    },
    {
     "name": "stderr",
     "output_type": "stream",
     "text": [
      "\n",
      "\u001b[A%|████████████████████████████▏             | 84/125 [44:55<17:03, 24.97s/it]"
     ]
    },
    {
     "name": "stdout",
     "output_type": "stream",
     "text": [
      "0.43957405113314785 score on {'alpha': 1.625, 'n_factors': 70, 'regularization': 0.75025}\n"
     ]
    },
    {
     "name": "stderr",
     "output_type": "stream",
     "text": [
      "\n",
      "\u001b[A%|████████████████████████████▌             | 85/125 [45:20<16:30, 24.76s/it]"
     ]
    },
    {
     "name": "stdout",
     "output_type": "stream",
     "text": [
      "0.4407675929192969 score on {'alpha': 1.625, 'n_factors': 70, 'regularization': 1.0}\n"
     ]
    },
    {
     "name": "stderr",
     "output_type": "stream",
     "text": [
      "\n",
      "\u001b[A%|████████████████████████████▉             | 86/125 [45:47<16:37, 25.57s/it]"
     ]
    },
    {
     "name": "stdout",
     "output_type": "stream",
     "text": [
      "0.4226249865089336 score on {'alpha': 1.625, 'n_factors': 130, 'regularization': 0.001}\n"
     ]
    },
    {
     "name": "stderr",
     "output_type": "stream",
     "text": [
      "\n",
      "\u001b[A%|█████████████████████████████▏            | 87/125 [46:15<16:32, 26.13s/it]"
     ]
    },
    {
     "name": "stdout",
     "output_type": "stream",
     "text": [
      "0.4246780791023481 score on {'alpha': 1.625, 'n_factors': 130, 'regularization': 0.25075}\n"
     ]
    },
    {
     "name": "stderr",
     "output_type": "stream",
     "text": [
      "\n",
      "\u001b[A%|█████████████████████████████▌            | 88/125 [46:42<16:21, 26.53s/it]"
     ]
    },
    {
     "name": "stdout",
     "output_type": "stream",
     "text": [
      "0.42460577626658497 score on {'alpha': 1.625, 'n_factors': 130, 'regularization': 0.5005}\n"
     ]
    },
    {
     "name": "stderr",
     "output_type": "stream",
     "text": [
      "\n",
      "\u001b[A%|█████████████████████████████▉            | 89/125 [47:10<16:05, 26.83s/it]"
     ]
    },
    {
     "name": "stdout",
     "output_type": "stream",
     "text": [
      "0.42350533321292866 score on {'alpha': 1.625, 'n_factors': 130, 'regularization': 0.75025}\n"
     ]
    },
    {
     "name": "stderr",
     "output_type": "stream",
     "text": [
      "\n",
      "\u001b[A%|██████████████████████████████▏           | 90/125 [47:37<15:45, 27.01s/it]"
     ]
    },
    {
     "name": "stdout",
     "output_type": "stream",
     "text": [
      "0.420241792582272 score on {'alpha': 1.625, 'n_factors': 130, 'regularization': 1.0}\n"
     ]
    },
    {
     "name": "stderr",
     "output_type": "stream",
     "text": [
      "\n",
      "\u001b[A%|██████████████████████████████▌           | 91/125 [48:14<16:59, 29.97s/it]"
     ]
    },
    {
     "name": "stdout",
     "output_type": "stream",
     "text": [
      "0.4060263735603204 score on {'alpha': 1.625, 'n_factors': 190, 'regularization': 0.001}\n"
     ]
    },
    {
     "name": "stderr",
     "output_type": "stream",
     "text": [
      "\n",
      "\u001b[A%|██████████████████████████████▉           | 92/125 [48:51<17:36, 32.01s/it]"
     ]
    },
    {
     "name": "stdout",
     "output_type": "stream",
     "text": [
      "0.41546382131315085 score on {'alpha': 1.625, 'n_factors': 190, 'regularization': 0.25075}\n"
     ]
    },
    {
     "name": "stderr",
     "output_type": "stream",
     "text": [
      "\n",
      "\u001b[A%|███████████████████████████████▏          | 93/125 [49:27<17:48, 33.40s/it]"
     ]
    },
    {
     "name": "stdout",
     "output_type": "stream",
     "text": [
      "0.40867921089582404 score on {'alpha': 1.625, 'n_factors': 190, 'regularization': 0.5005}\n"
     ]
    },
    {
     "name": "stderr",
     "output_type": "stream",
     "text": [
      "\n",
      "\u001b[A%|███████████████████████████████▌          | 94/125 [50:04<17:45, 34.38s/it]"
     ]
    },
    {
     "name": "stdout",
     "output_type": "stream",
     "text": [
      "0.4087791317825157 score on {'alpha': 1.625, 'n_factors': 190, 'regularization': 0.75025}\n"
     ]
    },
    {
     "name": "stderr",
     "output_type": "stream",
     "text": [
      "\n",
      "\u001b[A%|███████████████████████████████▉          | 95/125 [50:41<17:32, 35.09s/it]"
     ]
    },
    {
     "name": "stdout",
     "output_type": "stream",
     "text": [
      "0.40640296808178794 score on {'alpha': 1.625, 'n_factors': 190, 'regularization': 1.0}\n"
     ]
    },
    {
     "name": "stderr",
     "output_type": "stream",
     "text": [
      "\n",
      "\u001b[A%|████████████████████████████████▎         | 96/125 [51:41<20:39, 42.73s/it]"
     ]
    },
    {
     "name": "stdout",
     "output_type": "stream",
     "text": [
      "0.3965375008614821 score on {'alpha': 1.625, 'n_factors': 250, 'regularization': 0.001}\n"
     ]
    },
    {
     "name": "stderr",
     "output_type": "stream",
     "text": [
      "\n",
      "\u001b[A%|████████████████████████████████▌         | 97/125 [52:40<22:11, 47.55s/it]"
     ]
    },
    {
     "name": "stdout",
     "output_type": "stream",
     "text": [
      "0.39846734459220184 score on {'alpha': 1.625, 'n_factors': 250, 'regularization': 0.25075}\n"
     ]
    },
    {
     "name": "stderr",
     "output_type": "stream",
     "text": [
      "\n",
      "\u001b[A%|████████████████████████████████▉         | 98/125 [53:39<22:52, 50.83s/it]"
     ]
    },
    {
     "name": "stdout",
     "output_type": "stream",
     "text": [
      "0.3998557760293172 score on {'alpha': 1.625, 'n_factors': 250, 'regularization': 0.5005}\n"
     ]
    },
    {
     "name": "stderr",
     "output_type": "stream",
     "text": [
      "\n",
      "\u001b[A%|█████████████████████████████████▎        | 99/125 [54:36<22:56, 52.95s/it]"
     ]
    },
    {
     "name": "stdout",
     "output_type": "stream",
     "text": [
      "0.3951563289931877 score on {'alpha': 1.625, 'n_factors': 250, 'regularization': 0.75025}\n"
     ]
    },
    {
     "name": "stderr",
     "output_type": "stream",
     "text": [
      "\n",
      "\u001b[A%|████████████████████████████████▊        | 100/125 [55:35<22:48, 54.75s/it]"
     ]
    },
    {
     "name": "stdout",
     "output_type": "stream",
     "text": [
      "0.3963478872249238 score on {'alpha': 1.625, 'n_factors': 250, 'regularization': 1.0}\n"
     ]
    },
    {
     "name": "stderr",
     "output_type": "stream",
     "text": [
      "\n",
      "\u001b[A%|█████████████████████████████████▏       | 101/125 [55:57<17:56, 44.86s/it]"
     ]
    },
    {
     "name": "stdout",
     "output_type": "stream",
     "text": [
      "0.46283499410723883 score on {'alpha': 2.0, 'n_factors': 10, 'regularization': 0.001}\n"
     ]
    },
    {
     "name": "stderr",
     "output_type": "stream",
     "text": [
      "\n",
      "\u001b[A%|█████████████████████████████████▍       | 102/125 [56:19<14:32, 37.95s/it]"
     ]
    },
    {
     "name": "stdout",
     "output_type": "stream",
     "text": [
      "0.46408134654465993 score on {'alpha': 2.0, 'n_factors': 10, 'regularization': 0.25075}\n"
     ]
    },
    {
     "name": "stderr",
     "output_type": "stream",
     "text": [
      "\n",
      "\u001b[A%|█████████████████████████████████▊       | 103/125 [56:41<12:07, 33.08s/it]"
     ]
    },
    {
     "name": "stdout",
     "output_type": "stream",
     "text": [
      "0.4635826049513776 score on {'alpha': 2.0, 'n_factors': 10, 'regularization': 0.5005}\n"
     ]
    },
    {
     "name": "stderr",
     "output_type": "stream",
     "text": [
      "\n",
      "\u001b[A%|██████████████████████████████████       | 104/125 [57:03<10:24, 29.76s/it]"
     ]
    },
    {
     "name": "stdout",
     "output_type": "stream",
     "text": [
      "0.465565615735731 score on {'alpha': 2.0, 'n_factors': 10, 'regularization': 0.75025}\n"
     ]
    },
    {
     "name": "stderr",
     "output_type": "stream",
     "text": [
      "\n",
      "\u001b[A%|██████████████████████████████████▍      | 105/125 [57:25<09:07, 27.36s/it]"
     ]
    },
    {
     "name": "stdout",
     "output_type": "stream",
     "text": [
      "0.46450517444721534 score on {'alpha': 2.0, 'n_factors': 10, 'regularization': 1.0}\n"
     ]
    },
    {
     "name": "stderr",
     "output_type": "stream",
     "text": [
      "\n",
      "\u001b[A%|██████████████████████████████████▊      | 106/125 [57:49<08:23, 26.48s/it]"
     ]
    },
    {
     "name": "stdout",
     "output_type": "stream",
     "text": [
      "0.43881638252321636 score on {'alpha': 2.0, 'n_factors': 70, 'regularization': 0.001}\n"
     ]
    },
    {
     "name": "stderr",
     "output_type": "stream",
     "text": [
      "\n",
      "\u001b[A%|███████████████████████████████████      | 107/125 [58:14<07:47, 25.96s/it]"
     ]
    },
    {
     "name": "stdout",
     "output_type": "stream",
     "text": [
      "0.4368654063098494 score on {'alpha': 2.0, 'n_factors': 70, 'regularization': 0.25075}\n"
     ]
    },
    {
     "name": "stderr",
     "output_type": "stream",
     "text": [
      "\n",
      "\u001b[A%|███████████████████████████████████▍     | 108/125 [58:38<07:13, 25.49s/it]"
     ]
    },
    {
     "name": "stdout",
     "output_type": "stream",
     "text": [
      "0.43441296722063605 score on {'alpha': 2.0, 'n_factors': 70, 'regularization': 0.5005}\n"
     ]
    },
    {
     "name": "stderr",
     "output_type": "stream",
     "text": [
      "\n",
      "\u001b[A%|███████████████████████████████████▊     | 109/125 [59:02<06:42, 25.14s/it]"
     ]
    },
    {
     "name": "stdout",
     "output_type": "stream",
     "text": [
      "0.4322404092313325 score on {'alpha': 2.0, 'n_factors': 70, 'regularization': 0.75025}\n"
     ]
    },
    {
     "name": "stderr",
     "output_type": "stream",
     "text": [
      "\n",
      "\u001b[A%|████████████████████████████████████     | 110/125 [59:27<06:13, 24.87s/it]"
     ]
    },
    {
     "name": "stdout",
     "output_type": "stream",
     "text": [
      "0.43506292637409055 score on {'alpha': 2.0, 'n_factors': 70, 'regularization': 1.0}\n"
     ]
    },
    {
     "name": "stderr",
     "output_type": "stream",
     "text": [
      "\n",
      "\u001b[A%|████████████████████████████████████▍    | 111/125 [59:54<05:58, 25.64s/it]"
     ]
    },
    {
     "name": "stdout",
     "output_type": "stream",
     "text": [
      "0.41766489702864495 score on {'alpha': 2.0, 'n_factors': 130, 'regularization': 0.001}\n"
     ]
    },
    {
     "name": "stderr",
     "output_type": "stream",
     "text": [
      "\n",
      "\u001b[A%|██████████████████████████████████▉    | 112/125 [1:00:22<05:41, 26.25s/it]"
     ]
    },
    {
     "name": "stdout",
     "output_type": "stream",
     "text": [
      "0.4210413019969284 score on {'alpha': 2.0, 'n_factors': 130, 'regularization': 0.25075}\n"
     ]
    },
    {
     "name": "stderr",
     "output_type": "stream",
     "text": [
      "\n",
      "\u001b[A%|███████████████████████████████████▎   | 113/125 [1:00:49<05:19, 26.65s/it]"
     ]
    },
    {
     "name": "stdout",
     "output_type": "stream",
     "text": [
      "0.4178690941289194 score on {'alpha': 2.0, 'n_factors': 130, 'regularization': 0.5005}\n"
     ]
    },
    {
     "name": "stderr",
     "output_type": "stream",
     "text": [
      "\n",
      "\u001b[A%|███████████████████████████████████▌   | 114/125 [1:01:17<04:56, 26.93s/it]"
     ]
    },
    {
     "name": "stdout",
     "output_type": "stream",
     "text": [
      "0.423238432468677 score on {'alpha': 2.0, 'n_factors': 130, 'regularization': 0.75025}\n"
     ]
    },
    {
     "name": "stderr",
     "output_type": "stream",
     "text": [
      "\n",
      "\u001b[A%|███████████████████████████████████▉   | 115/125 [1:01:44<04:30, 27.08s/it]"
     ]
    },
    {
     "name": "stdout",
     "output_type": "stream",
     "text": [
      "0.42196809509278876 score on {'alpha': 2.0, 'n_factors': 130, 'regularization': 1.0}\n"
     ]
    },
    {
     "name": "stderr",
     "output_type": "stream",
     "text": [
      "\n",
      "\u001b[A%|████████████████████████████████████▏  | 116/125 [1:02:21<04:29, 29.99s/it]"
     ]
    },
    {
     "name": "stdout",
     "output_type": "stream",
     "text": [
      "0.40404602335850515 score on {'alpha': 2.0, 'n_factors': 190, 'regularization': 0.001}\n"
     ]
    },
    {
     "name": "stderr",
     "output_type": "stream",
     "text": [
      "\n",
      "\u001b[A%|████████████████████████████████████▌  | 117/125 [1:02:58<04:16, 32.05s/it]"
     ]
    },
    {
     "name": "stdout",
     "output_type": "stream",
     "text": [
      "0.4105420963331314 score on {'alpha': 2.0, 'n_factors': 190, 'regularization': 0.25075}\n"
     ]
    },
    {
     "name": "stderr",
     "output_type": "stream",
     "text": [
      "\n",
      "\u001b[A%|████████████████████████████████████▊  | 118/125 [1:03:35<03:54, 33.51s/it]"
     ]
    },
    {
     "name": "stdout",
     "output_type": "stream",
     "text": [
      "0.40892588704868554 score on {'alpha': 2.0, 'n_factors': 190, 'regularization': 0.5005}\n"
     ]
    },
    {
     "name": "stderr",
     "output_type": "stream",
     "text": [
      "\n",
      "\u001b[A%|█████████████████████████████████████▏ | 119/125 [1:04:12<03:26, 34.47s/it]"
     ]
    },
    {
     "name": "stdout",
     "output_type": "stream",
     "text": [
      "0.4113563978693621 score on {'alpha': 2.0, 'n_factors': 190, 'regularization': 0.75025}\n"
     ]
    },
    {
     "name": "stderr",
     "output_type": "stream",
     "text": [
      "\n",
      "\u001b[A%|█████████████████████████████████████▍ | 120/125 [1:04:48<02:55, 35.13s/it]"
     ]
    },
    {
     "name": "stdout",
     "output_type": "stream",
     "text": [
      "0.40737623295096775 score on {'alpha': 2.0, 'n_factors': 190, 'regularization': 1.0}\n"
     ]
    },
    {
     "name": "stderr",
     "output_type": "stream",
     "text": [
      "\n",
      "\u001b[A%|█████████████████████████████████████▊ | 121/125 [1:05:42<02:42, 40.74s/it]"
     ]
    },
    {
     "name": "stdout",
     "output_type": "stream",
     "text": [
      "0.3901405354058014 score on {'alpha': 2.0, 'n_factors': 250, 'regularization': 0.001}\n"
     ]
    },
    {
     "name": "stderr",
     "output_type": "stream",
     "text": [
      "\n",
      "\u001b[A%|██████████████████████████████████████ | 122/125 [1:06:36<02:14, 44.80s/it]"
     ]
    },
    {
     "name": "stdout",
     "output_type": "stream",
     "text": [
      "0.39514009402126915 score on {'alpha': 2.0, 'n_factors': 250, 'regularization': 0.25075}\n"
     ]
    },
    {
     "name": "stderr",
     "output_type": "stream",
     "text": [
      "\n",
      "\u001b[A%|██████████████████████████████████████▍| 123/125 [1:07:31<01:35, 47.84s/it]"
     ]
    },
    {
     "name": "stdout",
     "output_type": "stream",
     "text": [
      "0.39561698172943693 score on {'alpha': 2.0, 'n_factors': 250, 'regularization': 0.5005}\n"
     ]
    },
    {
     "name": "stderr",
     "output_type": "stream",
     "text": [
      "\n",
      "\u001b[A%|██████████████████████████████████████▋| 124/125 [1:08:25<00:49, 49.61s/it]"
     ]
    },
    {
     "name": "stdout",
     "output_type": "stream",
     "text": [
      "0.39784668207441193 score on {'alpha': 2.0, 'n_factors': 250, 'regularization': 0.75025}\n"
     ]
    },
    {
     "name": "stderr",
     "output_type": "stream",
     "text": [
      "\n",
      "100%|███████████████████████████████████████| 125/125 [1:09:25<00:00, 33.32s/it]"
     ]
    },
    {
     "name": "stdout",
     "output_type": "stream",
     "text": [
      "0.3925996063166551 score on {'alpha': 2.0, 'n_factors': 250, 'regularization': 1.0}\n",
      "CPU times: user 2h 59min 43s, sys: 35min 6s, total: 3h 34min 49s\n",
      "Wall time: 1h 9min 25s\n"
     ]
    },
    {
     "name": "stderr",
     "output_type": "stream",
     "text": [
      "\n"
     ]
    }
   ],
   "source": [
    "%%time \n",
    "\n",
    "params_grid = ParameterGrid(\n",
    "    {\n",
    "        'n_factors': np.round(np.linspace(10, 250, 5)).astype(int),\n",
    "        'alpha': np.linspace(.5, 2, 5),\n",
    "        'regularization': np.linspace(1e-3, 1, 5),\n",
    "    }\n",
    ")\n",
    "\n",
    "res = []\n",
    "\n",
    "for cur_params in tqdm(params_grid):\n",
    "    recs = make_als_recommendations(\n",
    "        df_to_coo(df_train), \n",
    "        **cur_params\n",
    "    )\n",
    "    ndcg_score = ndcg_metric(\n",
    "        df_to_coo(df_test), \n",
    "        recs\n",
    "    )\n",
    "\n",
    "    res.append(ndcg_score)\n",
    "\n",
    "    print(f'{ndcg_score} score on {cur_params}')"
   ]
  },
  {
   "cell_type": "markdown",
   "id": "429af36f-9daa-4fbf-aa0e-069e985ab665",
   "metadata": {},
   "source": [
    "Наилучший скор -- `0.4707503226268187 score on {'alpha': 0.5, 'n_factors': 10, 'regularization': 0.25075}`:"
   ]
  },
  {
   "cell_type": "code",
   "execution_count": 95,
   "id": "6e8fbe7f-cfd7-4721-aa52-9372c11c8796",
   "metadata": {},
   "outputs": [
    {
     "data": {
      "text/plain": [
       "1"
      ]
     },
     "execution_count": 95,
     "metadata": {},
     "output_type": "execute_result"
    }
   ],
   "source": [
    "np.argmax(res) + 1"
   ]
  },
  {
   "cell_type": "markdown",
   "id": "81f3b1cc-760b-4d6a-ab8a-aca57b7b6dfe",
   "metadata": {},
   "source": [
    "##### Задание 3.2. Сделайте объяснение рекомендаций для нескольких юзеров(als.explain). Воспользуйтесь файлом movies.dat чтобы перейти от индексов фильмов к их названием"
   ]
  },
  {
   "cell_type": "code",
   "execution_count": 100,
   "id": "84c46e79-8436-466b-9912-86941e1d47a3",
   "metadata": {},
   "outputs": [],
   "source": [
    "movies = pd.read_csv(\n",
    "    \"ml-1m/movies.dat\", \n",
    "    sep='::', \n",
    "    names=['id', 'title', 'genres'], \n",
    "    engine='python', \n",
    "    encoding='cp1250', \n",
    "    index_col=0\n",
    ")\n",
    "\n",
    "id_mov_dict = movies.title.to_dict()"
   ]
  },
  {
   "cell_type": "code",
   "execution_count": 103,
   "id": "3bcdd26c-ef20-4a8e-8fe0-a675b5e0a3eb",
   "metadata": {},
   "outputs": [],
   "source": [
    "model = AlternatingLeastSquares(**{'alpha': 0.5, 'factors': 10, 'regularization': 0.25075})"
   ]
  },
  {
   "cell_type": "code",
   "execution_count": 105,
   "id": "7cffc280-a905-45e1-8ed1-4656eefa174c",
   "metadata": {},
   "outputs": [],
   "source": [
    "model.fit(\n",
    "    csr_matrix(interactions),\n",
    "    show_progress=False\n",
    ")"
   ]
  },
  {
   "cell_type": "code",
   "execution_count": 109,
   "id": "dfe8a9cd-cb99-4947-8ffa-6e0620033c31",
   "metadata": {},
   "outputs": [
    {
     "name": "stdout",
     "output_type": "stream",
     "text": [
      "CPU times: user 2.69 s, sys: 107 ms, total: 2.8 s\n",
      "Wall time: 2.81 s\n"
     ]
    }
   ],
   "source": [
    "%%time\n",
    "\n",
    "recs_dict = {}\n",
    "topn = 3\n",
    "\n",
    "for user_id in np.random.choice(csr_matrix(interactions).shape[0], 10):\n",
    "    recs_dict[user_id] = {}\n",
    "    for rec_item in recs[user_id,:topn]:\n",
    "        model_explanation = [movie[0] for movie in model.explain(user_id, csr_matrix(interactions), rec_item, N=topn)[1]]\n",
    "        movies_lst = [id_mov_dict[movie] for movie in item_le.inverse_transform(model_explanation)]\n",
    "        recs_dict[user_id][id_mov_dict[item_le.inverse_transform([rec_item])[0]]] = movies_lst"
   ]
  },
  {
   "cell_type": "markdown",
   "id": "56d27cad-6ca0-4619-b38e-9c11d31a19eb",
   "metadata": {},
   "source": [
    "Взяли 5 случайных юзеров и получили топ-3 рекомендации по фильмам:"
   ]
  },
  {
   "cell_type": "code",
   "execution_count": 110,
   "id": "a7822887-77bd-4f55-9a69-f6c4535747de",
   "metadata": {},
   "outputs": [
    {
     "data": {
      "text/plain": [
       "{4584: {'Crumb (1994)': ['Rushmore (1998)',\n",
       "   'Roger & Me (1989)',\n",
       "   'Lone Star (1996)'],\n",
       "  'Little Big Man (1970)': ['Maltese Falcon, The (1941)',\n",
       "   'African Queen, The (1951)',\n",
       "   'Diner (1982)'],\n",
       "  'Raging Bull (1980)': ['Apocalypse Now (1979)',\n",
       "   'Godfather: Part II, The (1974)',\n",
       "   'GoodFellas (1990)']},\n",
       " 1677: {'Terminator 2: Judgment Day (1991)': ['Star Wars: Episode IV - A New Hope (1977)',\n",
       "   'Matrix, The (1999)',\n",
       "   'Jurassic Park (1993)'],\n",
       "  'Being John Malkovich (1999)': ['American Beauty (1999)',\n",
       "   'Clerks (1994)',\n",
       "   'Shakespeare in Love (1998)'],\n",
       "  'Contact (1997)': ['Matrix, The (1999)',\n",
       "   'E.T. the Extra-Terrestrial (1982)',\n",
       "   'Total Recall (1990)']},\n",
       " 957: {'Rock, The (1996)': ['Air Force One (1997)',\n",
       "   'Fugitive, The (1993)',\n",
       "   'Clear and Present Danger (1994)'],\n",
       "  'Die Hard 2 (1990)': ['Air Force One (1997)',\n",
       "   'Die Hard: With a Vengeance (1995)',\n",
       "   'Heat (1995)'],\n",
       "  'Matrix, The (1999)': ['Terminator 2: Judgment Day (1991)',\n",
       "   'Total Recall (1990)',\n",
       "   'Saving Private Ryan (1998)']},\n",
       " 5318: {'Get Shorty (1995)': ['Out of Sight (1998)',\n",
       "   'Rock, The (1996)',\n",
       "   'Fugitive, The (1993)'],\n",
       "  'Speed (1994)': ['Fugitive, The (1993)',\n",
       "   'Rock, The (1996)',\n",
       "   'Clear and Present Danger (1994)'],\n",
       "  'Face/Off (1997)': ['Fifth Element, The (1997)',\n",
       "   'Matrix, The (1999)',\n",
       "   'Independence Day (ID4) (1996)']},\n",
       " 5122: {'Die Hard 2 (1990)': ['Saving Private Ryan (1998)',\n",
       "   'Get Shorty (1995)',\n",
       "   'Speed (1994)'],\n",
       "  'Kingpin (1996)': ['Ghostbusters (1984)',\n",
       "   'Austin Powers: The Spy Who Shagged Me (1999)',\n",
       "   'American Beauty (1999)'],\n",
       "  'Wag the Dog (1997)': ['Groundhog Day (1993)',\n",
       "   'My Cousin Vinny (1992)',\n",
       "   'Grosse Pointe Blank (1997)']},\n",
       " 2181: {'X-Men (2000)': ['American Beauty (1999)',\n",
       "   'Being John Malkovich (1999)',\n",
       "   'Gladiator (2000)'],\n",
       "  'Romancing the Stone (1984)': ['Princess Bride, The (1987)',\n",
       "   \"Ferris Bueller's Day Off (1986)\",\n",
       "   'Good Morning, Vietnam (1987)'],\n",
       "  'Casablanca (1942)': ['North by Northwest (1959)',\n",
       "   'Godfather, The (1972)',\n",
       "   'Wizard of Oz, The (1939)']},\n",
       " 3585: {'Executive Decision (1996)': ['Rock, The (1996)',\n",
       "   'In the Line of Fire (1993)',\n",
       "   'Mask of Zorro, The (1998)'],\n",
       "  'U.S. Marshalls (1998)': ['Rock, The (1996)',\n",
       "   'In the Line of Fire (1993)',\n",
       "   'Mask of Zorro, The (1998)'],\n",
       "  'Single White Female (1992)': ['In the Line of Fire (1993)',\n",
       "   'Rock, The (1996)',\n",
       "   'Ronin (1998)']},\n",
       " 1649: {'Elizabeth (1998)': ['Erin Brockovich (2000)',\n",
       "   'American Beauty (1999)',\n",
       "   'Sixth Sense, The (1999)'],\n",
       "  'Civil Action, A (1998)': ['Sixth Sense, The (1999)',\n",
       "   'Erin Brockovich (2000)',\n",
       "   \"General's Daughter, The (1999)\"],\n",
       "  'Out of Africa (1985)': ['Erin Brockovich (2000)',\n",
       "   \"General's Daughter, The (1999)\",\n",
       "   'Desperately Seeking Susan (1985)']},\n",
       " 3426: {'Candyman (1992)': ['Exorcist, The (1973)',\n",
       "   'Nightmare on Elm Street, A (1984)',\n",
       "   'Shining, The (1980)'],\n",
       "  'Craft, The (1996)': ['Exorcist, The (1973)',\n",
       "   'Shining, The (1980)',\n",
       "   'Scream (1996)'],\n",
       "  'Pet Sematary (1989)': ['Shining, The (1980)',\n",
       "   'Exorcist, The (1973)',\n",
       "   'Nightmare on Elm Street, A (1984)']},\n",
       " 5328: {'Jumanji (1995)': ['Beauty and the Beast (1991)',\n",
       "   \"Charlotte's Web (1973)\",\n",
       "   'Sword in the Stone, The (1963)'],\n",
       "  'Mulan (1998)': ['Beauty and the Beast (1991)',\n",
       "   \"Charlotte's Web (1973)\",\n",
       "   'Lion King, The (1994)'],\n",
       "  'Big (1988)': ['Back to the Future (1985)',\n",
       "   'Raiders of the Lost Ark (1981)',\n",
       "   'Little Mermaid, The (1989)']}}"
      ]
     },
     "execution_count": 110,
     "metadata": {},
     "output_type": "execute_result"
    }
   ],
   "source": [
    "recs_dict"
   ]
  },
  {
   "cell_type": "markdown",
   "id": "d7d7ea0c-8288-45f5-83d4-9761a8952669",
   "metadata": {},
   "source": [
    "##### Задание 4. До этого мы работали с рейтингами, но как обсуждалось на лекции, implicit ALS отлично работает и с implicit фидбэком. Давайте попробуем преобразовать наш датасет(трейн и тест) следующим образом\n",
    "\n",
    "1. Бинаризуем все рейтинги(заменим любую интеракцию пользователя на 1)\n",
    "2. Заменим на 1 только рейтинги 4 и 5, а рейтинг ниже 4 заменим на 0\n",
    "3. Заменим на 1 только рейтинги 4 и 5, а рейтинг ниже 4 заменим на -1\n",
    "4. Заменим на 1 только рейтинги 4 и 5, а рейтинг ниже 4 заменим на -1 и добавим сглаживание по времени. То есть чем дальше была интеракция от максимальной даты трейна, тем с меньшим весом мы будем ее учитывать(например можно интеракции за последний месяц брать в исходном виде, и с каждым месяцем в прошлое умножать их на какой-нибудь коэффициент меньший 1). Таким образом более старые интеракции пользователя будут вносить меньший вклад в его интересы\n",
    "5. Придумайте свой вариант(опционально)\n",
    "\n",
    "Для каждой полученной матрицы обучите iALS и SVD и сравните их результаты между собой(преобразовывать нужно только обучающую выборку, тестовую оставляем неизменной)"
   ]
  },
  {
   "cell_type": "markdown",
   "id": "509d720f-5a94-4c68-bc1f-577ff0d3a6f0",
   "metadata": {},
   "source": [
    "1)"
   ]
  },
  {
   "cell_type": "code",
   "execution_count": 116,
   "id": "c839fd09-eca4-43e0-a209-2da63775f79f",
   "metadata": {},
   "outputs": [
    {
     "name": "stdout",
     "output_type": "stream",
     "text": [
      "CPU times: user 2min 16s, sys: 14.7 s, total: 2min 31s\n",
      "Wall time: 24.2 s\n"
     ]
    }
   ],
   "source": [
    "%%time\n",
    "\n",
    "svd_pred = make_svd_recommendations(\n",
    "    np.where(interactions > 0, 1, 0),  # interactions == тестовая выборка\n",
    "    n_singular_values=7, \n",
    "    top_k=100\n",
    ")\n",
    "ials_pred = make_als_recommendations(\n",
    "    np.where(interactions > 0, 1, 0), \n",
    "    top_k=100, \n",
    "    **{'alpha': 0.5, 'n_factors': 10, 'regularization': 0.25075}\n",
    ")"
   ]
  },
  {
   "cell_type": "code",
   "execution_count": 117,
   "id": "87a4cdeb-0423-4ae7-a914-9bb6f1b77e14",
   "metadata": {},
   "outputs": [
    {
     "data": {
      "text/plain": [
       "(0.4855949019149442, 0.47019648616965615)"
      ]
     },
     "execution_count": 117,
     "metadata": {},
     "output_type": "execute_result"
    }
   ],
   "source": [
    "ndcg_metric(df_to_coo(df_test), svd_pred).mean(), ndcg_metric(df_to_coo(df_test), ials_pred).mean()"
   ]
  },
  {
   "cell_type": "markdown",
   "id": "bea9c5e4-d603-465e-80f4-4903dca341e1",
   "metadata": {},
   "source": [
    "2)"
   ]
  },
  {
   "cell_type": "code",
   "execution_count": 118,
   "id": "b7d9cc3a-81a0-43fa-98be-69a516ba886c",
   "metadata": {},
   "outputs": [
    {
     "name": "stdout",
     "output_type": "stream",
     "text": [
      "CPU times: user 2min 5s, sys: 12.2 s, total: 2min 18s\n",
      "Wall time: 21.3 s\n"
     ]
    }
   ],
   "source": [
    "%%time\n",
    "\n",
    "svd_pred = make_svd_recommendations(\n",
    "    np.where(interactions > 3, 1, 0), \n",
    "    n_singular_values=7, \n",
    "    top_k=100\n",
    ")\n",
    "ials_pred = make_als_recommendations(\n",
    "    np.where(interactions > 3, 1, 0), \n",
    "    top_k=100, \n",
    "    **{'alpha': 0.5, 'n_factors': 10, 'regularization': 0.25075}\n",
    ")"
   ]
  },
  {
   "cell_type": "code",
   "execution_count": 119,
   "id": "22edcc22-85d5-48c0-a669-d163736aa42f",
   "metadata": {},
   "outputs": [
    {
     "data": {
      "text/plain": [
       "(0.43408112443449653, 0.47135327063844523)"
      ]
     },
     "execution_count": 119,
     "metadata": {},
     "output_type": "execute_result"
    }
   ],
   "source": [
    "ndcg_metric(df_to_coo(df_test), svd_pred).mean(), ndcg_metric(df_to_coo(df_test), ials_pred).mean()"
   ]
  },
  {
   "cell_type": "markdown",
   "id": "4063e10f-185d-4e9d-ba31-6f81b599365a",
   "metadata": {},
   "source": [
    "3)"
   ]
  },
  {
   "cell_type": "code",
   "execution_count": 120,
   "id": "d19c06fa-3673-4bf0-8da7-52b1143c6ac7",
   "metadata": {},
   "outputs": [
    {
     "name": "stdout",
     "output_type": "stream",
     "text": [
      "CPU times: user 2min 24s, sys: 15.4 s, total: 2min 40s\n",
      "Wall time: 26.8 s\n"
     ]
    }
   ],
   "source": [
    "%%time\n",
    "\n",
    "svd_pred = make_svd_recommendations(\n",
    "    np.where(interactions > 3, 1, np.where(interactions == 0, 0, -1)), \n",
    "    n_singular_values=7, \n",
    "    top_k=100\n",
    ")\n",
    "ials_pred = make_als_recommendations(\n",
    "    np.where(interactions > 3, 1, np.where(interactions == 0, 0, -1)), \n",
    "    top_k=100, \n",
    "    **{'alpha': 0.5, 'n_factors': 10, 'regularization': 0.25075}\n",
    ")"
   ]
  },
  {
   "cell_type": "code",
   "execution_count": 121,
   "id": "1ab68715-a477-4f2b-9031-3c1c14120c6d",
   "metadata": {},
   "outputs": [
    {
     "data": {
      "text/plain": [
       "(0.4855949019149442, 0.4703018695886516)"
      ]
     },
     "execution_count": 121,
     "metadata": {},
     "output_type": "execute_result"
    }
   ],
   "source": [
    "ndcg_metric(df_to_coo(df_test), svd_pred).mean(), ndcg_metric(df_to_coo(df_test), ials_pred).mean()"
   ]
  },
  {
   "cell_type": "markdown",
   "id": "7f1959d9-cb5f-49a6-a1cf-586ee5d8f899",
   "metadata": {},
   "source": [
    "4)"
   ]
  },
  {
   "cell_type": "code",
   "execution_count": 127,
   "id": "357a4c70-044f-4181-9a7d-9c85a3ad6c8e",
   "metadata": {},
   "outputs": [],
   "source": [
    "mnth_array = df_train.datetime.apply(lambda x: x.month + (x.year * 12))\n",
    "smoothing_coefs = (mnth_array.max() + 1) - mnth_array"
   ]
  },
  {
   "cell_type": "code",
   "execution_count": 129,
   "id": "238c4801-ce73-486f-8c48-84b3907a8b3d",
   "metadata": {},
   "outputs": [],
   "source": [
    "smoothing_matrix = np.ones(interactions.shape)\n",
    "smoothing_matrix[df_train.user_id.values, df_train.item_id.values] = smoothing_coefs"
   ]
  },
  {
   "cell_type": "code",
   "execution_count": 130,
   "id": "7389bfc4-34d8-4740-83dd-a5ec5ba042d7",
   "metadata": {},
   "outputs": [
    {
     "name": "stdout",
     "output_type": "stream",
     "text": [
      "CPU times: user 2min 7s, sys: 14.2 s, total: 2min 21s\n",
      "Wall time: 22.2 s\n"
     ]
    }
   ],
   "source": [
    "%%time\n",
    "\n",
    "svd_pred = make_svd_recommendations(\n",
    "    np.where(interactions > 3, 1, np.where(interactions == 0, 0, -1)) / smoothing_matrix, \n",
    "    n_singular_values=7, \n",
    "    top_k=100\n",
    ")\n",
    "ials_pred = make_als_recommendations(\n",
    "    np.where(interactions > 3, 1, np.where(interactions == 0, 0, -1)) / smoothing_matrix, \n",
    "    top_k=100, \n",
    "    **{'alpha': 0.5, 'n_factors': 10, 'regularization': 0.25075}\n",
    ")"
   ]
  },
  {
   "cell_type": "code",
   "execution_count": 131,
   "id": "ad7a7360-ec40-4fa2-a831-e1f8e0ef2dab",
   "metadata": {},
   "outputs": [
    {
     "data": {
      "text/plain": [
       "(0.4855949019149442, 0.4701888198506908)"
      ]
     },
     "execution_count": 131,
     "metadata": {},
     "output_type": "execute_result"
    }
   ],
   "source": [
    "ndcg_metric(df_to_coo(df_test), svd_pred).mean(), ndcg_metric(df_to_coo(df_test), ials_pred).mean()"
   ]
  },
  {
   "cell_type": "markdown",
   "id": "ee7a03b1-5072-4bc4-ba46-1fc3c989b888",
   "metadata": {},
   "source": [
    "##### Задание 5. iALS на numpy/torch. Давайте реализуем алгоритм iALS на нумпае или торче. Требуется реализовать алгорит, описанный в 4 части [статьи](http://yifanhu.net/PUB/cf.pdf). Обратите внимания на все оптимизации, которые они описывают в статье, чтобы сократить лишние вычисления. Hint: метрики у вашего алгоритма должны быть сравнимы с метриками ALS из библиотеки implicit"
   ]
  },
  {
   "cell_type": "code",
   "execution_count": null,
   "id": "e6be5f0d-1454-4f15-9dd1-17d1f1f99583",
   "metadata": {},
   "outputs": [],
   "source": [
    "class iALS:\n",
    "    def __init__(self, n_factors: int = 100, alpha: float = 1.0, reg_coef = 0.01):\n",
    "        #your code here\n",
    "\n",
    "    def fit(self, interractions: np.ndarray, n_iterations: int 10):\n",
    "        #your code here\n",
    "\n",
    "    def predict(self, top_k: int = 100):\n",
    "        # возвращает top-k айтемов для каждого юзера(айтемы с которыми юзер взаимодействовал не должны попасть в рекомендации)\n",
    "        #your code here\n",
    "\n",
    "        return predicts # shape ~ [n_users, top_k]"
   ]
  },
  {
   "cell_type": "code",
   "execution_count": null,
   "id": "a9aa65d7-11dc-48d9-a270-8d0a6d96f28e",
   "metadata": {},
   "outputs": [],
   "source": []
  }
 ],
 "metadata": {
  "kernelspec": {
   "display_name": "Python, hw + experiments",
   "language": "python",
   "name": "hw-venv"
  },
  "language_info": {
   "codemirror_mode": {
    "name": "ipython",
    "version": 3
   },
   "file_extension": ".py",
   "mimetype": "text/x-python",
   "name": "python",
   "nbconvert_exporter": "python",
   "pygments_lexer": "ipython3",
   "version": "3.12.7"
  }
 },
 "nbformat": 4,
 "nbformat_minor": 5
}
